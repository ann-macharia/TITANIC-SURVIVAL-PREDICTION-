{
  "nbformat": 4,
  "nbformat_minor": 0,
  "metadata": {
    "colab": {
      "name": "9 - TITANIC SURVIVAL PREDICTION",
      "provenance": [],
      "collapsed_sections": [
        "kLG2VTrnTvYL",
        "XecOwPNorl2W",
        "J4wfHZwQrs-t",
        "a9BPYqunry97",
        "7KMRBJ7zr9HD",
        "zSGyg6kWsBUl",
        "iUNbvIvnT7ep",
        "OI3P3YnHUEBk",
        "vTbdjSrhVIiT",
        "lQ2G4ZPDVOXE",
        "xrmHVMVsVS--",
        "HPQviDmNtta8",
        "qjFHK1CKty7o",
        "HSsicSdvt4Zs"
      ],
      "toc_visible": true,
      "include_colab_link": true
    },
    "kernelspec": {
      "name": "python3",
      "display_name": "Python 3"
    }
  },
  "cells": [
    {
      "cell_type": "markdown",
      "metadata": {
        "id": "view-in-github",
        "colab_type": "text"
      },
      "source": [
        "<a href=\"https://colab.research.google.com/github/ann-macharia/TITANIC-SURVIVAL-PREDICTION-/blob/master/9_TITANIC_SURVIVAL_PREDICTION.ipynb\" target=\"_parent\"><img src=\"https://colab.research.google.com/assets/colab-badge.svg\" alt=\"Open In Colab\"/></a>"
      ]
    },
    {
      "cell_type": "markdown",
      "metadata": {
        "id": "kLG2VTrnTvYL",
        "colab_type": "text"
      },
      "source": [
        "# DEFINING THE SOLUTION"
      ]
    },
    {
      "cell_type": "markdown",
      "metadata": {
        "id": "XecOwPNorl2W",
        "colab_type": "text"
      },
      "source": [
        "### a) Specifying the Question"
      ]
    },
    {
      "cell_type": "markdown",
      "metadata": {
        "id": "PmjdmdqlK7SB",
        "colab_type": "text"
      },
      "source": [
        " Create a  KNN model that is ble to predict whether a passenger on the titanic died or survived."
      ]
    },
    {
      "cell_type": "markdown",
      "metadata": {
        "id": "J4wfHZwQrs-t",
        "colab_type": "text"
      },
      "source": [
        "### b) Defining the Metric for Success"
      ]
    },
    {
      "cell_type": "markdown",
      "metadata": {
        "id": "WS_fWgcuLCZt",
        "colab_type": "text"
      },
      "source": [
        "The metric for success in this project will be a well fitted and fairly accurate KNN classifier that will optimumly predict if a passenger on the titanic died or survived."
      ]
    },
    {
      "cell_type": "markdown",
      "metadata": {
        "id": "a9BPYqunry97",
        "colab_type": "text"
      },
      "source": [
        "### c) Understanding the context "
      ]
    },
    {
      "cell_type": "markdown",
      "metadata": {
        "id": "bN8fRHgvLiFe",
        "colab_type": "text"
      },
      "source": [
        "The titanic was one of the major developments in the transport industry. It was a big ship that was built in the early 90's for passenger and cargo transportation. \n",
        "\n",
        "The maiden voyage for the titanic was on April 10th, 1912 where it set out from a Southampton port. It headed to france to pick more passengers and cargo a ports Quuenbourg and Cherbourgh.\n",
        "\n",
        "Sadly, On April 15th, 1917, the titanic was not able to reach its destination Newyork as it hit an iceberg. The collision caused water to start leaking and the ship started sinking. There were efforts to try and save the passengers, but unfortunately not all passengers survived.\n",
        "\n",
        "A predictive model will be created to determine whether a passenger survived or not given features of the passengers. These features include: Gender, Class etc."
      ]
    },
    {
      "cell_type": "markdown",
      "metadata": {
        "id": "7KMRBJ7zr9HD",
        "colab_type": "text"
      },
      "source": [
        "### d) Recording the Experimental Design"
      ]
    },
    {
      "cell_type": "markdown",
      "metadata": {
        "id": "r32mp4AHMmvZ",
        "colab_type": "text"
      },
      "source": [
        "The main aim of the project is to create a predictive model for predict whether a passenger on the titanic died or survived.Data cleaning and exploratory data analysis will be done before creating the model and evaluation of the model and a final documentation of the project."
      ]
    },
    {
      "cell_type": "markdown",
      "metadata": {
        "id": "zSGyg6kWsBUl",
        "colab_type": "text"
      },
      "source": [
        "### e) Data Relevance"
      ]
    },
    {
      "cell_type": "markdown",
      "metadata": {
        "id": "iomnxSVv72SQ",
        "colab_type": "text"
      },
      "source": [
        "The data to be used is a record of all passengers who were on the ship.\n",
        "It contains the names of passengers, the gender, number of sibling and parents the passengers had, port on which they embarked the ship and many other relevant details which will help create a optimal predictive model."
      ]
    },
    {
      "cell_type": "markdown",
      "metadata": {
        "id": "g6oNVxRgiBO4",
        "colab_type": "text"
      },
      "source": [
        "# PART 1"
      ]
    },
    {
      "cell_type": "markdown",
      "metadata": {
        "id": "IhNxYG5ONMPr",
        "colab_type": "text"
      },
      "source": [
        "Nairobi Hospital conducted a clinical camp to test for hypothyroidism. The data collected focused on Thyroid patients. The features include patients' biodata, physical characteristics, past history of the patients etc. All the variables are relevant to predict whether a patient has hypothyroidism or not"
      ]
    },
    {
      "cell_type": "markdown",
      "metadata": {
        "id": "iUNbvIvnT7ep",
        "colab_type": "text"
      },
      "source": [
        "# READING THE DATA"
      ]
    },
    {
      "cell_type": "code",
      "metadata": {
        "id": "FjMO_gFhYh0_",
        "colab_type": "code",
        "colab": {}
      },
      "source": [
        "#Importing libraries.\n",
        "\n",
        "import pandas as pd\n",
        "import numpy as np\n",
        "from sklearn.tree import DecisionTreeClassifier\n",
        "from sklearn.model_selection import train_test_split\n",
        "from sklearn import metrics\n",
        "from sklearn.metrics import classification_report, confusion_matrix, accuracy_score\n",
        "import seaborn as sns"
      ],
      "execution_count": 0,
      "outputs": []
    },
    {
      "cell_type": "code",
      "metadata": {
        "id": "XJn2KjW-WMlG",
        "colab_type": "code",
        "colab": {}
      },
      "source": [
        "a = pd.read_csv('/content/train (1).csv')\n"
      ],
      "execution_count": 0,
      "outputs": []
    },
    {
      "cell_type": "markdown",
      "metadata": {
        "id": "OI3P3YnHUEBk",
        "colab_type": "text"
      },
      "source": [
        "# CHECKING THE DATA"
      ]
    },
    {
      "cell_type": "code",
      "metadata": {
        "id": "YjSVNwgptHxY",
        "colab_type": "code",
        "outputId": "fe4a15e9-91db-4e24-bcba-0e5cc58b5e53",
        "colab": {
          "base_uri": "https://localhost:8080/",
          "height": 34
        }
      },
      "source": [
        "# Determining the no. of records in our dataset\n",
        "#\n",
        "print(a.shape)"
      ],
      "execution_count": 161,
      "outputs": [
        {
          "output_type": "stream",
          "text": [
            "(891, 12)\n"
          ],
          "name": "stdout"
        }
      ]
    },
    {
      "cell_type": "code",
      "metadata": {
        "id": "xHhTw5eKWr0n",
        "colab_type": "code",
        "outputId": "147fb6cc-5237-434f-ff4a-959ef63f2d15",
        "colab": {
          "base_uri": "https://localhost:8080/",
          "height": 323
        }
      },
      "source": [
        "# Previewing the top of our dataset\n",
        "#\n",
        "a.head()"
      ],
      "execution_count": 162,
      "outputs": [
        {
          "output_type": "execute_result",
          "data": {
            "text/html": [
              "<div>\n",
              "<style scoped>\n",
              "    .dataframe tbody tr th:only-of-type {\n",
              "        vertical-align: middle;\n",
              "    }\n",
              "\n",
              "    .dataframe tbody tr th {\n",
              "        vertical-align: top;\n",
              "    }\n",
              "\n",
              "    .dataframe thead th {\n",
              "        text-align: right;\n",
              "    }\n",
              "</style>\n",
              "<table border=\"1\" class=\"dataframe\">\n",
              "  <thead>\n",
              "    <tr style=\"text-align: right;\">\n",
              "      <th></th>\n",
              "      <th>PassengerId</th>\n",
              "      <th>Survived</th>\n",
              "      <th>Pclass</th>\n",
              "      <th>Name</th>\n",
              "      <th>Sex</th>\n",
              "      <th>Age</th>\n",
              "      <th>SibSp</th>\n",
              "      <th>Parch</th>\n",
              "      <th>Ticket</th>\n",
              "      <th>Fare</th>\n",
              "      <th>Cabin</th>\n",
              "      <th>Embarked</th>\n",
              "    </tr>\n",
              "  </thead>\n",
              "  <tbody>\n",
              "    <tr>\n",
              "      <th>0</th>\n",
              "      <td>1</td>\n",
              "      <td>0</td>\n",
              "      <td>3</td>\n",
              "      <td>Braund, Mr. Owen Harris</td>\n",
              "      <td>male</td>\n",
              "      <td>22.0</td>\n",
              "      <td>1</td>\n",
              "      <td>0</td>\n",
              "      <td>A/5 21171</td>\n",
              "      <td>7.2500</td>\n",
              "      <td>NaN</td>\n",
              "      <td>S</td>\n",
              "    </tr>\n",
              "    <tr>\n",
              "      <th>1</th>\n",
              "      <td>2</td>\n",
              "      <td>1</td>\n",
              "      <td>1</td>\n",
              "      <td>Cumings, Mrs. John Bradley (Florence Briggs Th...</td>\n",
              "      <td>female</td>\n",
              "      <td>38.0</td>\n",
              "      <td>1</td>\n",
              "      <td>0</td>\n",
              "      <td>PC 17599</td>\n",
              "      <td>71.2833</td>\n",
              "      <td>C85</td>\n",
              "      <td>C</td>\n",
              "    </tr>\n",
              "    <tr>\n",
              "      <th>2</th>\n",
              "      <td>3</td>\n",
              "      <td>1</td>\n",
              "      <td>3</td>\n",
              "      <td>Heikkinen, Miss. Laina</td>\n",
              "      <td>female</td>\n",
              "      <td>26.0</td>\n",
              "      <td>0</td>\n",
              "      <td>0</td>\n",
              "      <td>STON/O2. 3101282</td>\n",
              "      <td>7.9250</td>\n",
              "      <td>NaN</td>\n",
              "      <td>S</td>\n",
              "    </tr>\n",
              "    <tr>\n",
              "      <th>3</th>\n",
              "      <td>4</td>\n",
              "      <td>1</td>\n",
              "      <td>1</td>\n",
              "      <td>Futrelle, Mrs. Jacques Heath (Lily May Peel)</td>\n",
              "      <td>female</td>\n",
              "      <td>35.0</td>\n",
              "      <td>1</td>\n",
              "      <td>0</td>\n",
              "      <td>113803</td>\n",
              "      <td>53.1000</td>\n",
              "      <td>C123</td>\n",
              "      <td>S</td>\n",
              "    </tr>\n",
              "    <tr>\n",
              "      <th>4</th>\n",
              "      <td>5</td>\n",
              "      <td>0</td>\n",
              "      <td>3</td>\n",
              "      <td>Allen, Mr. William Henry</td>\n",
              "      <td>male</td>\n",
              "      <td>35.0</td>\n",
              "      <td>0</td>\n",
              "      <td>0</td>\n",
              "      <td>373450</td>\n",
              "      <td>8.0500</td>\n",
              "      <td>NaN</td>\n",
              "      <td>S</td>\n",
              "    </tr>\n",
              "  </tbody>\n",
              "</table>\n",
              "</div>"
            ],
            "text/plain": [
              "   PassengerId  Survived  Pclass  ...     Fare Cabin  Embarked\n",
              "0            1         0       3  ...   7.2500   NaN         S\n",
              "1            2         1       1  ...  71.2833   C85         C\n",
              "2            3         1       3  ...   7.9250   NaN         S\n",
              "3            4         1       1  ...  53.1000  C123         S\n",
              "4            5         0       3  ...   8.0500   NaN         S\n",
              "\n",
              "[5 rows x 12 columns]"
            ]
          },
          "metadata": {
            "tags": []
          },
          "execution_count": 162
        }
      ]
    },
    {
      "cell_type": "code",
      "metadata": {
        "id": "e9AzGcZFrIIr",
        "colab_type": "code",
        "outputId": "82050356-21fe-45a4-a176-9631df734f16",
        "colab": {
          "base_uri": "https://localhost:8080/",
          "height": 255
        }
      },
      "source": [
        "# Previewing the bottom of our dataset\n",
        "# \n",
        "a.tail()"
      ],
      "execution_count": 163,
      "outputs": [
        {
          "output_type": "execute_result",
          "data": {
            "text/html": [
              "<div>\n",
              "<style scoped>\n",
              "    .dataframe tbody tr th:only-of-type {\n",
              "        vertical-align: middle;\n",
              "    }\n",
              "\n",
              "    .dataframe tbody tr th {\n",
              "        vertical-align: top;\n",
              "    }\n",
              "\n",
              "    .dataframe thead th {\n",
              "        text-align: right;\n",
              "    }\n",
              "</style>\n",
              "<table border=\"1\" class=\"dataframe\">\n",
              "  <thead>\n",
              "    <tr style=\"text-align: right;\">\n",
              "      <th></th>\n",
              "      <th>PassengerId</th>\n",
              "      <th>Survived</th>\n",
              "      <th>Pclass</th>\n",
              "      <th>Name</th>\n",
              "      <th>Sex</th>\n",
              "      <th>Age</th>\n",
              "      <th>SibSp</th>\n",
              "      <th>Parch</th>\n",
              "      <th>Ticket</th>\n",
              "      <th>Fare</th>\n",
              "      <th>Cabin</th>\n",
              "      <th>Embarked</th>\n",
              "    </tr>\n",
              "  </thead>\n",
              "  <tbody>\n",
              "    <tr>\n",
              "      <th>886</th>\n",
              "      <td>887</td>\n",
              "      <td>0</td>\n",
              "      <td>2</td>\n",
              "      <td>Montvila, Rev. Juozas</td>\n",
              "      <td>male</td>\n",
              "      <td>27.0</td>\n",
              "      <td>0</td>\n",
              "      <td>0</td>\n",
              "      <td>211536</td>\n",
              "      <td>13.00</td>\n",
              "      <td>NaN</td>\n",
              "      <td>S</td>\n",
              "    </tr>\n",
              "    <tr>\n",
              "      <th>887</th>\n",
              "      <td>888</td>\n",
              "      <td>1</td>\n",
              "      <td>1</td>\n",
              "      <td>Graham, Miss. Margaret Edith</td>\n",
              "      <td>female</td>\n",
              "      <td>19.0</td>\n",
              "      <td>0</td>\n",
              "      <td>0</td>\n",
              "      <td>112053</td>\n",
              "      <td>30.00</td>\n",
              "      <td>B42</td>\n",
              "      <td>S</td>\n",
              "    </tr>\n",
              "    <tr>\n",
              "      <th>888</th>\n",
              "      <td>889</td>\n",
              "      <td>0</td>\n",
              "      <td>3</td>\n",
              "      <td>Johnston, Miss. Catherine Helen \"Carrie\"</td>\n",
              "      <td>female</td>\n",
              "      <td>NaN</td>\n",
              "      <td>1</td>\n",
              "      <td>2</td>\n",
              "      <td>W./C. 6607</td>\n",
              "      <td>23.45</td>\n",
              "      <td>NaN</td>\n",
              "      <td>S</td>\n",
              "    </tr>\n",
              "    <tr>\n",
              "      <th>889</th>\n",
              "      <td>890</td>\n",
              "      <td>1</td>\n",
              "      <td>1</td>\n",
              "      <td>Behr, Mr. Karl Howell</td>\n",
              "      <td>male</td>\n",
              "      <td>26.0</td>\n",
              "      <td>0</td>\n",
              "      <td>0</td>\n",
              "      <td>111369</td>\n",
              "      <td>30.00</td>\n",
              "      <td>C148</td>\n",
              "      <td>C</td>\n",
              "    </tr>\n",
              "    <tr>\n",
              "      <th>890</th>\n",
              "      <td>891</td>\n",
              "      <td>0</td>\n",
              "      <td>3</td>\n",
              "      <td>Dooley, Mr. Patrick</td>\n",
              "      <td>male</td>\n",
              "      <td>32.0</td>\n",
              "      <td>0</td>\n",
              "      <td>0</td>\n",
              "      <td>370376</td>\n",
              "      <td>7.75</td>\n",
              "      <td>NaN</td>\n",
              "      <td>Q</td>\n",
              "    </tr>\n",
              "  </tbody>\n",
              "</table>\n",
              "</div>"
            ],
            "text/plain": [
              "     PassengerId  Survived  Pclass  ...   Fare Cabin  Embarked\n",
              "886          887         0       2  ...  13.00   NaN         S\n",
              "887          888         1       1  ...  30.00   B42         S\n",
              "888          889         0       3  ...  23.45   NaN         S\n",
              "889          890         1       1  ...  30.00  C148         C\n",
              "890          891         0       3  ...   7.75   NaN         Q\n",
              "\n",
              "[5 rows x 12 columns]"
            ]
          },
          "metadata": {
            "tags": []
          },
          "execution_count": 163
        }
      ]
    },
    {
      "cell_type": "code",
      "metadata": {
        "id": "CGdzSUfQqJ-4",
        "colab_type": "code",
        "outputId": "fbb002d0-8deb-42cb-ffd3-bb9812d797ae",
        "colab": {
          "base_uri": "https://localhost:8080/",
          "height": 306
        }
      },
      "source": [
        "# Checking whether each column has an appropriate datatype\n",
        "#\n",
        "a.info()"
      ],
      "execution_count": 164,
      "outputs": [
        {
          "output_type": "stream",
          "text": [
            "<class 'pandas.core.frame.DataFrame'>\n",
            "RangeIndex: 891 entries, 0 to 890\n",
            "Data columns (total 12 columns):\n",
            "PassengerId    891 non-null int64\n",
            "Survived       891 non-null int64\n",
            "Pclass         891 non-null int64\n",
            "Name           891 non-null object\n",
            "Sex            891 non-null object\n",
            "Age            714 non-null float64\n",
            "SibSp          891 non-null int64\n",
            "Parch          891 non-null int64\n",
            "Ticket         891 non-null object\n",
            "Fare           891 non-null float64\n",
            "Cabin          204 non-null object\n",
            "Embarked       889 non-null object\n",
            "dtypes: float64(2), int64(5), object(5)\n",
            "memory usage: 83.7+ KB\n"
          ],
          "name": "stdout"
        }
      ]
    },
    {
      "cell_type": "markdown",
      "metadata": {
        "id": "5yUZcJI3qR0K",
        "colab_type": "text"
      },
      "source": [
        "Passenger id should be an object, survived should be a category, p-class should be a category."
      ]
    },
    {
      "cell_type": "code",
      "metadata": {
        "id": "n8-dW4sQWzbc",
        "colab_type": "code",
        "colab": {}
      },
      "source": [
        "#Fixing the data types                  \n",
        "a['Survived'] = pd.Categorical(a['Survived'])\n",
        "a['PassengerId'] = a['PassengerId'].astype(object)\n",
        "a['Pclass'] = pd.Categorical(a['Pclass'])"
      ],
      "execution_count": 0,
      "outputs": []
    },
    {
      "cell_type": "code",
      "metadata": {
        "id": "Ot3cuFPnuqg5",
        "colab_type": "code",
        "outputId": "67a71798-622c-4e74-d3c7-0ae7265202a0",
        "colab": {
          "base_uri": "https://localhost:8080/",
          "height": 238
        }
      },
      "source": [
        "#Checking if there are any null values\n",
        "#\n",
        "a.isnull().sum()"
      ],
      "execution_count": 166,
      "outputs": [
        {
          "output_type": "execute_result",
          "data": {
            "text/plain": [
              "PassengerId      0\n",
              "Survived         0\n",
              "Pclass           0\n",
              "Name             0\n",
              "Sex              0\n",
              "Age            177\n",
              "SibSp            0\n",
              "Parch            0\n",
              "Ticket           0\n",
              "Fare             0\n",
              "Cabin          687\n",
              "Embarked         2\n",
              "dtype: int64"
            ]
          },
          "metadata": {
            "tags": []
          },
          "execution_count": 166
        }
      ]
    },
    {
      "cell_type": "markdown",
      "metadata": {
        "id": "H0ap0Tidu4dK",
        "colab_type": "text"
      },
      "source": [
        "The embarked column has very many missing values more than 2/3rds of the data. This column will be dropped.\n",
        "\n",
        "The ages column also has some missing values. These will be imputed."
      ]
    },
    {
      "cell_type": "code",
      "metadata": {
        "id": "kvzrvxASz9bf",
        "colab_type": "code",
        "colab": {}
      },
      "source": [
        "#Dropping the column Cabin\n",
        "#\n",
        "a.drop('Cabin', axis = 1, inplace = True)"
      ],
      "execution_count": 0,
      "outputs": []
    },
    {
      "cell_type": "code",
      "metadata": {
        "id": "P2kG2LaWHKbT",
        "colab_type": "code",
        "outputId": "8122ca05-2a78-43f5-f4e7-2ac1db0b95da",
        "colab": {
          "base_uri": "https://localhost:8080/",
          "height": 71
        }
      },
      "source": [
        "#Imputing missing values. \n",
        "#The names of the passengers have titles and we can use those titles to impute the age of the passengers.\n",
        "# The function below extracts the title in the column Names.\n",
        "#\n",
        "def get_title(name):\n",
        "  if '.' in name:\n",
        "    return name.split(',')[1].split('.')[0].strip()\n",
        "  else:\n",
        "    return 'unknown'\n",
        "\n",
        "# The function is appliied to the names column.\n",
        "# An alphabetically ordered list is created with all the unique titles.\n",
        "#\n",
        "titles = sorted(set([i for i in a.Name.map(lambda x: get_title(x))]))\n",
        "print('Different titles found on the data set:')\n",
        "print(len(titles), ':', titles)\n",
        "\n",
        "#There are seventeen unique titles."
      ],
      "execution_count": 168,
      "outputs": [
        {
          "output_type": "stream",
          "text": [
            "Different titles found on the data set:\n",
            "17 : ['Capt', 'Col', 'Don', 'Dr', 'Jonkheer', 'Lady', 'Major', 'Master', 'Miss', 'Mlle', 'Mme', 'Mr', 'Mrs', 'Ms', 'Rev', 'Sir', 'the Countess']\n"
          ],
          "name": "stdout"
        }
      ]
    },
    {
      "cell_type": "code",
      "metadata": {
        "id": "vGxNvQRiJVcd",
        "colab_type": "code",
        "colab": {}
      },
      "source": [
        "#Since the titles are many, the function below normalises the titles into 4 commom titles\n",
        "# \n",
        "def replace_title(x):\n",
        "  title = x['Title']\n",
        "  if title in ['Capt', 'Col', 'Don', 'Jonkheer', 'Major', 'Rev', 'Sir']:\n",
        "    return 'Mr'\n",
        "  elif title in ['the Countess','Mme', 'Lady']:\n",
        "    return 'Mrs'\n",
        "  elif title in ['Mlle', 'Ms']:\n",
        "    return 'Miss'\n",
        "  elif title =='Dr':\n",
        "    if x['Sex'] == 'male':\n",
        "      return 'Mr'\n",
        "    else:\n",
        "      return 'Mrs'\n",
        "  else:\n",
        "    return title"
      ],
      "execution_count": 0,
      "outputs": []
    },
    {
      "cell_type": "code",
      "metadata": {
        "id": "F_EOCxYMJs1h",
        "colab_type": "code",
        "outputId": "274beb01-4861-4c39-9a32-dc2b4b39a4ac",
        "colab": {
          "base_uri": "https://localhost:8080/",
          "height": 68
        }
      },
      "source": [
        "# The 1stfunction is mapped onto the column names, The 2nd column is applied to the dataframe a\n",
        "# \n",
        "a['Title'] = a['Name'].map(lambda x : get_title(x))\n",
        "print (a['Title'].unique())\n",
        "a['Title'] = a.apply(replace_title, axis = 1)\n",
        "print(a['Title'].unique())\n",
        "\n",
        "# Our titles now have only 4 titles."
      ],
      "execution_count": 170,
      "outputs": [
        {
          "output_type": "stream",
          "text": [
            "['Mr' 'Mrs' 'Miss' 'Master' 'Don' 'Rev' 'Dr' 'Mme' 'Ms' 'Major' 'Lady'\n",
            " 'Sir' 'Mlle' 'Col' 'Capt' 'the Countess' 'Jonkheer']\n",
            "['Mr' 'Mrs' 'Miss' 'Master']\n"
          ],
          "name": "stdout"
        }
      ]
    },
    {
      "cell_type": "code",
      "metadata": {
        "id": "QU0U64tU8BD0",
        "colab_type": "code",
        "outputId": "b8b7b8fe-813b-45cd-ce8e-922ae6e7db88",
        "colab": {
          "base_uri": "https://localhost:8080/",
          "height": 302
        }
      },
      "source": [
        "#Imputing missing values using titles.\n",
        "\n",
        "# we check the relatonship between age and name title using a boxplot\n",
        "#\n",
        "sns.boxplot(x='Title', y='Age', data=a, palette='hls')"
      ],
      "execution_count": 171,
      "outputs": [
        {
          "output_type": "execute_result",
          "data": {
            "text/plain": [
              "<matplotlib.axes._subplots.AxesSubplot at 0x7f38c1fdb908>"
            ]
          },
          "metadata": {
            "tags": []
          },
          "execution_count": 171
        },
        {
          "output_type": "display_data",
          "data": {
            "image/png": "[encoded data removed]",
            "text/plain": [
              "<Figure size 720x288 with 1 Axes>"
            ]
          },
          "metadata": {
            "tags": []
          }
        }
      ]
    },
    {
      "cell_type": "markdown",
      "metadata": {
        "id": "exXkmPjo908s",
        "colab_type": "text"
      },
      "source": [
        "Average age of a Mr is  28.\n",
        "\n",
        "Average age of a Mrs is 35.\n",
        "\n",
        "Average of a Miss is 24.\n",
        "\n",
        "Average age of a master is 5"
      ]
    },
    {
      "cell_type": "code",
      "metadata": {
        "id": "5cEkObg08qIV",
        "colab_type": "code",
        "colab": {}
      },
      "source": [
        "# Creating a function that assigns missing ages depending on class.\n",
        "def age_approx(cols):\n",
        "    Age = cols[0]\n",
        "    Title = cols[1]\n",
        "    \n",
        "    if pd.isnull(Age):\n",
        "        if Title  == 'Mr':\n",
        "            return 28\n",
        "        elif Title == 'Mrs':\n",
        "            return 35\n",
        "        elif Title == 'Miss':\n",
        "            return 24\n",
        "        else:\n",
        "            return 5\n",
        "    else:\n",
        "        return Age"
      ],
      "execution_count": 0,
      "outputs": []
    },
    {
      "cell_type": "code",
      "metadata": {
        "id": "nlsEr4mg8r9Z",
        "colab_type": "code",
        "colab": {}
      },
      "source": [
        "#Creating the age column.\n",
        "#\n",
        "a['Age'] = a[['Age', 'Title']].apply(age_approx, axis=1)"
      ],
      "execution_count": 0,
      "outputs": []
    },
    {
      "cell_type": "code",
      "metadata": {
        "id": "0w1SgmJpMWhM",
        "colab_type": "code",
        "colab": {}
      },
      "source": [
        "# There are 2 null values remaining in the embarked column, i will drop them\n",
        "#\n",
        "a = a.dropna()\n",
        "\n",
        "# The names column can be dropped. All the useful information has been extracted.\n",
        "a.drop('Name', axis = 1, inplace = True)"
      ],
      "execution_count": 0,
      "outputs": []
    },
    {
      "cell_type": "code",
      "metadata": {
        "id": "PAIu04tM9PAv",
        "colab_type": "code",
        "outputId": "ce6ea0df-b13c-4248-d113-16bf31de9e4c",
        "colab": {
          "base_uri": "https://localhost:8080/",
          "height": 221
        }
      },
      "source": [
        "# Checking for any null values\n",
        "a.isnull().sum()"
      ],
      "execution_count": 175,
      "outputs": [
        {
          "output_type": "execute_result",
          "data": {
            "text/plain": [
              "PassengerId    0\n",
              "Survived       0\n",
              "Pclass         0\n",
              "Sex            0\n",
              "Age            0\n",
              "SibSp          0\n",
              "Parch          0\n",
              "Ticket         0\n",
              "Fare           0\n",
              "Embarked       0\n",
              "Title          0\n",
              "dtype: int64"
            ]
          },
          "metadata": {
            "tags": []
          },
          "execution_count": 175
        }
      ]
    },
    {
      "cell_type": "markdown",
      "metadata": {
        "id": "dEC69bJM9buv",
        "colab_type": "text"
      },
      "source": [
        "Data is clean and has no null values."
      ]
    },
    {
      "cell_type": "code",
      "metadata": {
        "id": "fPo-zK1Q-3yK",
        "colab_type": "code",
        "outputId": "f1b3721b-5070-47b3-a27e-0fc6cc08bb54",
        "colab": {
          "base_uri": "https://localhost:8080/",
          "height": 34
        }
      },
      "source": [
        "#Checking for duplicates.\n",
        "a.duplicated().any()"
      ],
      "execution_count": 176,
      "outputs": [
        {
          "output_type": "execute_result",
          "data": {
            "text/plain": [
              "False"
            ]
          },
          "metadata": {
            "tags": []
          },
          "execution_count": 176
        }
      ]
    },
    {
      "cell_type": "markdown",
      "metadata": {
        "id": "DnrsKbii_YDV",
        "colab_type": "text"
      },
      "source": [
        "We have no duplicated values."
      ]
    },
    {
      "cell_type": "code",
      "metadata": {
        "id": "8mAxoXMX-MNf",
        "colab_type": "code",
        "colab": {
          "base_uri": "https://localhost:8080/",
          "height": 285
        },
        "outputId": "eca819a5-ae43-44b6-91a5-ac31a53a9842"
      },
      "source": [
        "#Checking for outliers in the data.\n",
        "sns.boxplot(data = a)\n",
        "\n",
        "#Fair has many outliers."
      ],
      "execution_count": 177,
      "outputs": [
        {
          "output_type": "execute_result",
          "data": {
            "text/plain": [
              "<matplotlib.axes._subplots.AxesSubplot at 0x7f38c1e4add8>"
            ]
          },
          "metadata": {
            "tags": []
          },
          "execution_count": 177
        },
        {
          "output_type": "display_data",
          "data": {
            "image/png": "[encoded data removed]",
            "text/plain": [
              "<Figure size 720x288 with 1 Axes>"
            ]
          },
          "metadata": {
            "tags": []
          }
        }
      ]
    },
    {
      "cell_type": "code",
      "metadata": {
        "id": "_Dm5qTgM-nQ5",
        "colab_type": "code",
        "colab": {
          "base_uri": "https://localhost:8080/",
          "height": 34
        },
        "outputId": "5acbef34-e815-45f1-e9a9-d31bda2bfc53"
      },
      "source": [
        "#Dropping the outliers in fair.\n",
        "Q3=a['Fare'].quantile(0.75)\n",
        "Q1=a['Fare'].quantile(0.25)\n",
        "IQR = Q3 - Q1\n",
        "\n",
        "a = a[~((a['Fare'] < (Q1 - 1.5 * IQR)) |(a['Fare'] > (Q3 + 1.5 * IQR)))]\n",
        "a.shape\n"
      ],
      "execution_count": 178,
      "outputs": [
        {
          "output_type": "execute_result",
          "data": {
            "text/plain": [
              "(775, 11)"
            ]
          },
          "metadata": {
            "tags": []
          },
          "execution_count": 178
        }
      ]
    },
    {
      "cell_type": "code",
      "metadata": {
        "id": "gFVxcN0OAIy7",
        "colab_type": "code",
        "colab": {
          "base_uri": "https://localhost:8080/",
          "height": 285
        },
        "outputId": "d7fd58a1-5c26-4c18-98fd-a7dde68979db"
      },
      "source": [
        "#Checking if outliers have been dropped.\n",
        "\n",
        "sns.boxplot(data = a)\n",
        "\n",
        "#All outliers dropped"
      ],
      "execution_count": 179,
      "outputs": [
        {
          "output_type": "execute_result",
          "data": {
            "text/plain": [
              "<matplotlib.axes._subplots.AxesSubplot at 0x7f38c1eb22e8>"
            ]
          },
          "metadata": {
            "tags": []
          },
          "execution_count": 179
        },
        {
          "output_type": "display_data",
          "data": {
            "image/png": "[encoded data removed]",
            "text/plain": [
              "<Figure size 720x288 with 1 Axes>"
            ]
          },
          "metadata": {
            "tags": []
          }
        }
      ]
    },
    {
      "cell_type": "code",
      "metadata": {
        "id": "8IPQk3J3NVAg",
        "colab_type": "code",
        "outputId": "5fcb62f9-168b-4ca6-c50b-9d2e47bf2ff5",
        "colab": {
          "base_uri": "https://localhost:8080/",
          "height": 204
        }
      },
      "source": [
        "# Preview of cleaned data\n",
        "#\n",
        "a.head()"
      ],
      "execution_count": 180,
      "outputs": [
        {
          "output_type": "execute_result",
          "data": {
            "text/html": [
              "<div>\n",
              "<style scoped>\n",
              "    .dataframe tbody tr th:only-of-type {\n",
              "        vertical-align: middle;\n",
              "    }\n",
              "\n",
              "    .dataframe tbody tr th {\n",
              "        vertical-align: top;\n",
              "    }\n",
              "\n",
              "    .dataframe thead th {\n",
              "        text-align: right;\n",
              "    }\n",
              "</style>\n",
              "<table border=\"1\" class=\"dataframe\">\n",
              "  <thead>\n",
              "    <tr style=\"text-align: right;\">\n",
              "      <th></th>\n",
              "      <th>PassengerId</th>\n",
              "      <th>Survived</th>\n",
              "      <th>Pclass</th>\n",
              "      <th>Sex</th>\n",
              "      <th>Age</th>\n",
              "      <th>SibSp</th>\n",
              "      <th>Parch</th>\n",
              "      <th>Ticket</th>\n",
              "      <th>Fare</th>\n",
              "      <th>Embarked</th>\n",
              "      <th>Title</th>\n",
              "    </tr>\n",
              "  </thead>\n",
              "  <tbody>\n",
              "    <tr>\n",
              "      <th>0</th>\n",
              "      <td>1</td>\n",
              "      <td>0</td>\n",
              "      <td>3</td>\n",
              "      <td>male</td>\n",
              "      <td>22.0</td>\n",
              "      <td>1</td>\n",
              "      <td>0</td>\n",
              "      <td>A/5 21171</td>\n",
              "      <td>7.2500</td>\n",
              "      <td>S</td>\n",
              "      <td>Mr</td>\n",
              "    </tr>\n",
              "    <tr>\n",
              "      <th>2</th>\n",
              "      <td>3</td>\n",
              "      <td>1</td>\n",
              "      <td>3</td>\n",
              "      <td>female</td>\n",
              "      <td>26.0</td>\n",
              "      <td>0</td>\n",
              "      <td>0</td>\n",
              "      <td>STON/O2. 3101282</td>\n",
              "      <td>7.9250</td>\n",
              "      <td>S</td>\n",
              "      <td>Miss</td>\n",
              "    </tr>\n",
              "    <tr>\n",
              "      <th>3</th>\n",
              "      <td>4</td>\n",
              "      <td>1</td>\n",
              "      <td>1</td>\n",
              "      <td>female</td>\n",
              "      <td>35.0</td>\n",
              "      <td>1</td>\n",
              "      <td>0</td>\n",
              "      <td>113803</td>\n",
              "      <td>53.1000</td>\n",
              "      <td>S</td>\n",
              "      <td>Mrs</td>\n",
              "    </tr>\n",
              "    <tr>\n",
              "      <th>4</th>\n",
              "      <td>5</td>\n",
              "      <td>0</td>\n",
              "      <td>3</td>\n",
              "      <td>male</td>\n",
              "      <td>35.0</td>\n",
              "      <td>0</td>\n",
              "      <td>0</td>\n",
              "      <td>373450</td>\n",
              "      <td>8.0500</td>\n",
              "      <td>S</td>\n",
              "      <td>Mr</td>\n",
              "    </tr>\n",
              "    <tr>\n",
              "      <th>5</th>\n",
              "      <td>6</td>\n",
              "      <td>0</td>\n",
              "      <td>3</td>\n",
              "      <td>male</td>\n",
              "      <td>28.0</td>\n",
              "      <td>0</td>\n",
              "      <td>0</td>\n",
              "      <td>330877</td>\n",
              "      <td>8.4583</td>\n",
              "      <td>Q</td>\n",
              "      <td>Mr</td>\n",
              "    </tr>\n",
              "  </tbody>\n",
              "</table>\n",
              "</div>"
            ],
            "text/plain": [
              "  PassengerId Survived Pclass     Sex  ...            Ticket     Fare  Embarked Title\n",
              "0           1        0      3    male  ...         A/5 21171   7.2500         S    Mr\n",
              "2           3        1      3  female  ...  STON/O2. 3101282   7.9250         S  Miss\n",
              "3           4        1      1  female  ...            113803  53.1000         S   Mrs\n",
              "4           5        0      3    male  ...            373450   8.0500         S    Mr\n",
              "5           6        0      3    male  ...            330877   8.4583         Q    Mr\n",
              "\n",
              "[5 rows x 11 columns]"
            ]
          },
          "metadata": {
            "tags": []
          },
          "execution_count": 180
        }
      ]
    },
    {
      "cell_type": "markdown",
      "metadata": {
        "id": "fC62SmzEoqZ7",
        "colab_type": "text"
      },
      "source": [
        "# EXPLORATORY DATA ANALYSIS"
      ]
    },
    {
      "cell_type": "markdown",
      "metadata": {
        "id": "tXmxYFuJowDj",
        "colab_type": "text"
      },
      "source": [
        "## Univariate Analysis"
      ]
    },
    {
      "cell_type": "code",
      "metadata": {
        "id": "jvFdnZDxl-sU",
        "colab_type": "code",
        "outputId": "7aa90cb9-2cdb-4c68-f2b2-aacd14b890c7",
        "colab": {
          "base_uri": "https://localhost:8080/",
          "height": 204
        }
      },
      "source": [
        "#data previewing.\n",
        "a.head()"
      ],
      "execution_count": 181,
      "outputs": [
        {
          "output_type": "execute_result",
          "data": {
            "text/html": [
              "<div>\n",
              "<style scoped>\n",
              "    .dataframe tbody tr th:only-of-type {\n",
              "        vertical-align: middle;\n",
              "    }\n",
              "\n",
              "    .dataframe tbody tr th {\n",
              "        vertical-align: top;\n",
              "    }\n",
              "\n",
              "    .dataframe thead th {\n",
              "        text-align: right;\n",
              "    }\n",
              "</style>\n",
              "<table border=\"1\" class=\"dataframe\">\n",
              "  <thead>\n",
              "    <tr style=\"text-align: right;\">\n",
              "      <th></th>\n",
              "      <th>PassengerId</th>\n",
              "      <th>Survived</th>\n",
              "      <th>Pclass</th>\n",
              "      <th>Sex</th>\n",
              "      <th>Age</th>\n",
              "      <th>SibSp</th>\n",
              "      <th>Parch</th>\n",
              "      <th>Ticket</th>\n",
              "      <th>Fare</th>\n",
              "      <th>Embarked</th>\n",
              "      <th>Title</th>\n",
              "    </tr>\n",
              "  </thead>\n",
              "  <tbody>\n",
              "    <tr>\n",
              "      <th>0</th>\n",
              "      <td>1</td>\n",
              "      <td>0</td>\n",
              "      <td>3</td>\n",
              "      <td>male</td>\n",
              "      <td>22.0</td>\n",
              "      <td>1</td>\n",
              "      <td>0</td>\n",
              "      <td>A/5 21171</td>\n",
              "      <td>7.2500</td>\n",
              "      <td>S</td>\n",
              "      <td>Mr</td>\n",
              "    </tr>\n",
              "    <tr>\n",
              "      <th>2</th>\n",
              "      <td>3</td>\n",
              "      <td>1</td>\n",
              "      <td>3</td>\n",
              "      <td>female</td>\n",
              "      <td>26.0</td>\n",
              "      <td>0</td>\n",
              "      <td>0</td>\n",
              "      <td>STON/O2. 3101282</td>\n",
              "      <td>7.9250</td>\n",
              "      <td>S</td>\n",
              "      <td>Miss</td>\n",
              "    </tr>\n",
              "    <tr>\n",
              "      <th>3</th>\n",
              "      <td>4</td>\n",
              "      <td>1</td>\n",
              "      <td>1</td>\n",
              "      <td>female</td>\n",
              "      <td>35.0</td>\n",
              "      <td>1</td>\n",
              "      <td>0</td>\n",
              "      <td>113803</td>\n",
              "      <td>53.1000</td>\n",
              "      <td>S</td>\n",
              "      <td>Mrs</td>\n",
              "    </tr>\n",
              "    <tr>\n",
              "      <th>4</th>\n",
              "      <td>5</td>\n",
              "      <td>0</td>\n",
              "      <td>3</td>\n",
              "      <td>male</td>\n",
              "      <td>35.0</td>\n",
              "      <td>0</td>\n",
              "      <td>0</td>\n",
              "      <td>373450</td>\n",
              "      <td>8.0500</td>\n",
              "      <td>S</td>\n",
              "      <td>Mr</td>\n",
              "    </tr>\n",
              "    <tr>\n",
              "      <th>5</th>\n",
              "      <td>6</td>\n",
              "      <td>0</td>\n",
              "      <td>3</td>\n",
              "      <td>male</td>\n",
              "      <td>28.0</td>\n",
              "      <td>0</td>\n",
              "      <td>0</td>\n",
              "      <td>330877</td>\n",
              "      <td>8.4583</td>\n",
              "      <td>Q</td>\n",
              "      <td>Mr</td>\n",
              "    </tr>\n",
              "  </tbody>\n",
              "</table>\n",
              "</div>"
            ],
            "text/plain": [
              "  PassengerId Survived Pclass     Sex  ...            Ticket     Fare  Embarked Title\n",
              "0           1        0      3    male  ...         A/5 21171   7.2500         S    Mr\n",
              "2           3        1      3  female  ...  STON/O2. 3101282   7.9250         S  Miss\n",
              "3           4        1      1  female  ...            113803  53.1000         S   Mrs\n",
              "4           5        0      3    male  ...            373450   8.0500         S    Mr\n",
              "5           6        0      3    male  ...            330877   8.4583         Q    Mr\n",
              "\n",
              "[5 rows x 11 columns]"
            ]
          },
          "metadata": {
            "tags": []
          },
          "execution_count": 181
        }
      ]
    },
    {
      "cell_type": "code",
      "metadata": {
        "id": "W3dUg1XamW7C",
        "colab_type": "code",
        "outputId": "c5fb83ca-98a6-4a2e-d69b-b069d56622f8",
        "colab": {
          "base_uri": "https://localhost:8080/",
          "height": 285
        }
      },
      "source": [
        "import matplotlib.pyplot as plt\n",
        "import seaborn as sns\n",
        "sns.set(rc={'figure.figsize':(10, 4)})\n",
        "sns.set(style=\"darkgrid\")\n",
        "\n",
        "colors = [\"#808080\", \"#BCF60C\"]\n",
        "sns.set_palette(sns.color_palette(colors))\n",
        "f, ax = plt.subplots(figsize=(8, 4))\n",
        "ax = sns.countplot(x=a['Survived'], alpha=1)"
      ],
      "execution_count": 182,
      "outputs": [
        {
          "output_type": "display_data",
          "data": {
            "image/png": "[encoded data removed]",
            "text/plain": [
              "<Figure size 576x288 with 1 Axes>"
            ]
          },
          "metadata": {
            "tags": []
          }
        }
      ]
    },
    {
      "cell_type": "code",
      "metadata": {
        "id": "lv1eiZXZP0Cy",
        "colab_type": "code",
        "outputId": "34af0847-962d-44aa-81cb-578f7644bd56",
        "colab": {
          "base_uri": "https://localhost:8080/",
          "height": 285
        }
      },
      "source": [
        "# Passengers distribution across the classes.\n",
        "#\n",
        "colors = [\"#008000\", \"#BCF60C\", \"#FFE119\"]\n",
        "sns.set_palette(sns.color_palette(colors))\n",
        "f, ax = plt.subplots(figsize=(8, 4))\n",
        "ax = sns.countplot(x=a['Pclass'], alpha=1)"
      ],
      "execution_count": 183,
      "outputs": [
        {
          "output_type": "display_data",
          "data": {
            "image/png": "[encoded data removed]",
            "text/plain": [
              "<Figure size 576x288 with 1 Axes>"
            ]
          },
          "metadata": {
            "tags": []
          }
        }
      ]
    },
    {
      "cell_type": "markdown",
      "metadata": {
        "id": "KteUWMv3nOfN",
        "colab_type": "text"
      },
      "source": [
        "Most passengers were in 3rd class, folllowed by the passengers in 1st class and in last place 2nd class.\n",
        "The classes were determined by th ticket price.\n",
        "\n",
        "Passengers in 3rd class were many since the tickets price were lower. Many passengers consisted primarily of emigrants moving to the United States and Canada.\n",
        "\n",
        "Those travelling in first class, most of them the wealthiest passengers on board. Many wealthy people did not want to miss out on the maiden voyage thus the high number of passengers compared to 2nd class\n",
        "\n",
        "Second-class passengers were predominantly middle-class travellers and included professors, authors, clergymen, and tourists. "
      ]
    },
    {
      "cell_type": "code",
      "metadata": {
        "id": "we9UOTg8STRF",
        "colab_type": "code",
        "outputId": "c4d70bdc-227e-4e6d-d00e-0b4edf4466af",
        "colab": {
          "base_uri": "https://localhost:8080/",
          "height": 285
        }
      },
      "source": [
        "sns.set(style=\"darkgrid\")\n",
        "colors = [\"#1E5631\", \"#A4DE02\"]\n",
        "sns.set_palette(sns.color_palette(colors))\n",
        "f, ax = plt.subplots(figsize=(8, 4))\n",
        "ax = sns.countplot(x=a['Sex'], alpha=1)"
      ],
      "execution_count": 184,
      "outputs": [
        {
          "output_type": "display_data",
          "data": {
            "image/png": "[encoded data removed]",
            "text/plain": [
              "<Figure size 576x288 with 1 Axes>"
            ]
          },
          "metadata": {
            "tags": []
          }
        }
      ]
    },
    {
      "cell_type": "markdown",
      "metadata": {
        "id": "LuJYVy5rUvug",
        "colab_type": "text"
      },
      "source": [
        "There were more males on the titanic compared to females"
      ]
    },
    {
      "cell_type": "code",
      "metadata": {
        "id": "LE3sXw0Xphid",
        "colab_type": "code",
        "outputId": "b6d4f0a4-829d-4932-f780-3cd7cbda4f82",
        "colab": {
          "base_uri": "https://localhost:8080/",
          "height": 302
        }
      },
      "source": [
        "#Age distribution.\n",
        "#\n",
        "import seaborn as sns\n",
        "sns.distplot( a['Age'], bins = 30, color = '#008000')"
      ],
      "execution_count": 185,
      "outputs": [
        {
          "output_type": "execute_result",
          "data": {
            "text/plain": [
              "<matplotlib.axes._subplots.AxesSubplot at 0x7f38c1ce2fd0>"
            ]
          },
          "metadata": {
            "tags": []
          },
          "execution_count": 185
        },
        {
          "output_type": "display_data",
          "data": {
            "image/png": "[encoded data removed]",
            "text/plain": [
              "<Figure size 720x288 with 1 Axes>"
            ]
          },
          "metadata": {
            "tags": []
          }
        }
      ]
    },
    {
      "cell_type": "markdown",
      "metadata": {
        "id": "cElxNBUqYwzy",
        "colab_type": "text"
      },
      "source": [
        "The age is normally distributed. Most people were betwen 20 ang 40 years."
      ]
    },
    {
      "cell_type": "code",
      "metadata": {
        "id": "oTdRbEx1ZTsq",
        "colab_type": "code",
        "outputId": "e6a0b0d1-c327-4109-9cc8-cd0bed74c6dd",
        "colab": {
          "base_uri": "https://localhost:8080/",
          "height": 302
        }
      },
      "source": [
        "#Age distribution.\n",
        "#\n",
        "import seaborn as sns\n",
        "sns.distplot( a['Fare'], bins = 30, color = '#00FF00')"
      ],
      "execution_count": 186,
      "outputs": [
        {
          "output_type": "execute_result",
          "data": {
            "text/plain": [
              "<matplotlib.axes._subplots.AxesSubplot at 0x7f38c26447b8>"
            ]
          },
          "metadata": {
            "tags": []
          },
          "execution_count": 186
        },
        {
          "output_type": "display_data",
          "data": {
            "image/png": "[encoded data removed]",
            "text/plain": [
              "<Figure size 720x288 with 1 Axes>"
            ]
          },
          "metadata": {
            "tags": []
          }
        }
      ]
    },
    {
      "cell_type": "markdown",
      "metadata": {
        "id": "cz57vr3yZ9uz",
        "colab_type": "text"
      },
      "source": [
        "Many passengers paid low fares for the tickests. This further emphasizes that most passengers were in third class."
      ]
    },
    {
      "cell_type": "code",
      "metadata": {
        "id": "FKV8Rm00YQeE",
        "colab_type": "code",
        "outputId": "ec174417-cd9f-4447-99fd-87383e0accdf",
        "colab": {
          "base_uri": "https://localhost:8080/",
          "height": 285
        }
      },
      "source": [
        "# Passengers distribution across the classes.\n",
        "#\n",
        "colors = [\"#008000\", \"#BCF60C\", \"#FFE119\", '#2EBB57']\n",
        "sns.set_palette(sns.color_palette(colors))\n",
        "f, ax = plt.subplots(figsize=(8, 4))\n",
        "ax = sns.countplot(x=a['Title'], alpha=1)"
      ],
      "execution_count": 187,
      "outputs": [
        {
          "output_type": "display_data",
          "data": {
            "image/png": "[encoded data removed]",
            "text/plain": [
              "<Figure size 576x288 with 1 Axes>"
            ]
          },
          "metadata": {
            "tags": []
          }
        }
      ]
    },
    {
      "cell_type": "markdown",
      "metadata": {
        "id": "4nyyYJg0Y8sI",
        "colab_type": "text"
      },
      "source": [
        "There were more younger ladies, and more older men"
      ]
    },
    {
      "cell_type": "code",
      "metadata": {
        "id": "_dRE1-8uadOP",
        "colab_type": "code",
        "outputId": "54699182-d188-481d-a3f7-1b9ffa5836ee",
        "colab": {
          "base_uri": "https://localhost:8080/",
          "height": 285
        }
      },
      "source": [
        "sns.set(style=\"darkgrid\")\n",
        "colors = [ \"#FFE119\", \"#008000\", '#00FF00', '#2EBB57', \"#A4DE02\", \"#FFE119\", \"#BCF60C\", \"#FFE119\"]\n",
        "sns.set_palette(sns.color_palette(colors))\n",
        "f, ax = plt.subplots(figsize=(8, 4))\n",
        "ax = sns.countplot(x=a['SibSp'], alpha=1)"
      ],
      "execution_count": 188,
      "outputs": [
        {
          "output_type": "display_data",
          "data": {
            "image/png": "[encoded data removed]",
            "text/plain": [
              "<Figure size 576x288 with 1 Axes>"
            ]
          },
          "metadata": {
            "tags": []
          }
        }
      ]
    },
    {
      "cell_type": "markdown",
      "metadata": {
        "id": "_BFZVHBHizIc",
        "colab_type": "text"
      },
      "source": [
        "Most passengers travelled without the company of siblings and/or a spouse"
      ]
    },
    {
      "cell_type": "code",
      "metadata": {
        "id": "TydPmX6Mityb",
        "colab_type": "code",
        "outputId": "8b694215-9911-40bd-9ec3-a4ed9d81c523",
        "colab": {
          "base_uri": "https://localhost:8080/",
          "height": 285
        }
      },
      "source": [
        "sns.set(style=\"darkgrid\")\n",
        "colors = [ \"#FFE119\", \"#008000\", '#00FF00', '#2EBB57', \"#A4DE02\", \"#FFE119\", \"#BCF60C\", \"#FFE119\"]\n",
        "sns.set_palette(sns.color_palette(colors))\n",
        "f, ax = plt.subplots(figsize=(8, 4))\n",
        "ax = sns.countplot(x=a['Parch'], alpha=1)"
      ],
      "execution_count": 189,
      "outputs": [
        {
          "output_type": "display_data",
          "data": {
            "image/png": "[encoded data removed]",
            "text/plain": [
              "<Figure size 576x288 with 1 Axes>"
            ]
          },
          "metadata": {
            "tags": []
          }
        }
      ]
    },
    {
      "cell_type": "markdown",
      "metadata": {
        "id": "AkqyQL8wbf8C",
        "colab_type": "text"
      },
      "source": [
        "Most passengers travelled without the company of parents and/or a children\n"
      ]
    },
    {
      "cell_type": "code",
      "metadata": {
        "id": "-kpd_Fb8jlee",
        "colab_type": "code",
        "outputId": "69162d61-2da4-4107-e087-4a95b585d69b",
        "colab": {
          "base_uri": "https://localhost:8080/",
          "height": 285
        }
      },
      "source": [
        "sns.set(style=\"darkgrid\")\n",
        "colors = [\"#1E5631\", \"#A4DE02\",\"#808080\" ]\n",
        "sns.set_palette(sns.color_palette(colors))\n",
        "f, ax = plt.subplots(figsize=(8, 4))\n",
        "ax = sns.countplot(x=a['Embarked'], alpha=1)"
      ],
      "execution_count": 190,
      "outputs": [
        {
          "output_type": "display_data",
          "data": {
            "image/png": "[encoded data removed]",
            "text/plain": [
              "<Figure size 576x288 with 1 Axes>"
            ]
          },
          "metadata": {
            "tags": []
          }
        }
      ]
    },
    {
      "cell_type": "markdown",
      "metadata": {
        "id": "8PVSbz8PjxUo",
        "colab_type": "text"
      },
      "source": [
        "Most passengers embarked the ship from the Southampton port England. Q is Queenstown and C is cherbourg. Queenstown and Cherbourg were ports in France where the titanic made a stop to pick more passengers."
      ]
    },
    {
      "cell_type": "markdown",
      "metadata": {
        "id": "DcLZnkKvo1w2",
        "colab_type": "text"
      },
      "source": [
        "## Bivariate Analysis"
      ]
    },
    {
      "cell_type": "code",
      "metadata": {
        "id": "8RtPe39sBPhv",
        "colab_type": "code",
        "outputId": "392ad070-25ce-4d5b-dbe7-0fbd5a683dbc",
        "colab": {
          "base_uri": "https://localhost:8080/",
          "height": 204
        }
      },
      "source": [
        "#previewing data\n",
        "a.head()"
      ],
      "execution_count": 191,
      "outputs": [
        {
          "output_type": "execute_result",
          "data": {
            "text/html": [
              "<div>\n",
              "<style scoped>\n",
              "    .dataframe tbody tr th:only-of-type {\n",
              "        vertical-align: middle;\n",
              "    }\n",
              "\n",
              "    .dataframe tbody tr th {\n",
              "        vertical-align: top;\n",
              "    }\n",
              "\n",
              "    .dataframe thead th {\n",
              "        text-align: right;\n",
              "    }\n",
              "</style>\n",
              "<table border=\"1\" class=\"dataframe\">\n",
              "  <thead>\n",
              "    <tr style=\"text-align: right;\">\n",
              "      <th></th>\n",
              "      <th>PassengerId</th>\n",
              "      <th>Survived</th>\n",
              "      <th>Pclass</th>\n",
              "      <th>Sex</th>\n",
              "      <th>Age</th>\n",
              "      <th>SibSp</th>\n",
              "      <th>Parch</th>\n",
              "      <th>Ticket</th>\n",
              "      <th>Fare</th>\n",
              "      <th>Embarked</th>\n",
              "      <th>Title</th>\n",
              "    </tr>\n",
              "  </thead>\n",
              "  <tbody>\n",
              "    <tr>\n",
              "      <th>0</th>\n",
              "      <td>1</td>\n",
              "      <td>0</td>\n",
              "      <td>3</td>\n",
              "      <td>male</td>\n",
              "      <td>22.0</td>\n",
              "      <td>1</td>\n",
              "      <td>0</td>\n",
              "      <td>A/5 21171</td>\n",
              "      <td>7.2500</td>\n",
              "      <td>S</td>\n",
              "      <td>Mr</td>\n",
              "    </tr>\n",
              "    <tr>\n",
              "      <th>2</th>\n",
              "      <td>3</td>\n",
              "      <td>1</td>\n",
              "      <td>3</td>\n",
              "      <td>female</td>\n",
              "      <td>26.0</td>\n",
              "      <td>0</td>\n",
              "      <td>0</td>\n",
              "      <td>STON/O2. 3101282</td>\n",
              "      <td>7.9250</td>\n",
              "      <td>S</td>\n",
              "      <td>Miss</td>\n",
              "    </tr>\n",
              "    <tr>\n",
              "      <th>3</th>\n",
              "      <td>4</td>\n",
              "      <td>1</td>\n",
              "      <td>1</td>\n",
              "      <td>female</td>\n",
              "      <td>35.0</td>\n",
              "      <td>1</td>\n",
              "      <td>0</td>\n",
              "      <td>113803</td>\n",
              "      <td>53.1000</td>\n",
              "      <td>S</td>\n",
              "      <td>Mrs</td>\n",
              "    </tr>\n",
              "    <tr>\n",
              "      <th>4</th>\n",
              "      <td>5</td>\n",
              "      <td>0</td>\n",
              "      <td>3</td>\n",
              "      <td>male</td>\n",
              "      <td>35.0</td>\n",
              "      <td>0</td>\n",
              "      <td>0</td>\n",
              "      <td>373450</td>\n",
              "      <td>8.0500</td>\n",
              "      <td>S</td>\n",
              "      <td>Mr</td>\n",
              "    </tr>\n",
              "    <tr>\n",
              "      <th>5</th>\n",
              "      <td>6</td>\n",
              "      <td>0</td>\n",
              "      <td>3</td>\n",
              "      <td>male</td>\n",
              "      <td>28.0</td>\n",
              "      <td>0</td>\n",
              "      <td>0</td>\n",
              "      <td>330877</td>\n",
              "      <td>8.4583</td>\n",
              "      <td>Q</td>\n",
              "      <td>Mr</td>\n",
              "    </tr>\n",
              "  </tbody>\n",
              "</table>\n",
              "</div>"
            ],
            "text/plain": [
              "  PassengerId Survived Pclass     Sex  ...            Ticket     Fare  Embarked Title\n",
              "0           1        0      3    male  ...         A/5 21171   7.2500         S    Mr\n",
              "2           3        1      3  female  ...  STON/O2. 3101282   7.9250         S  Miss\n",
              "3           4        1      1  female  ...            113803  53.1000         S   Mrs\n",
              "4           5        0      3    male  ...            373450   8.0500         S    Mr\n",
              "5           6        0      3    male  ...            330877   8.4583         Q    Mr\n",
              "\n",
              "[5 rows x 11 columns]"
            ]
          },
          "metadata": {
            "tags": []
          },
          "execution_count": 191
        }
      ]
    },
    {
      "cell_type": "code",
      "metadata": {
        "id": "Ezt88tkvCUP0",
        "colab_type": "code",
        "outputId": "80086e83-9e2f-4959-d147-8f3197aa8c0a",
        "colab": {
          "base_uri": "https://localhost:8080/",
          "height": 285
        }
      },
      "source": [
        "#Distribution os the hypothyroid disease in both genders.\n",
        "#\n",
        "sns.set(style=\"darkgrid\")\n",
        "colors = [\"#FFFF00\", \"#008000\"]\n",
        "sns.set_palette(sns.color_palette(colors))\n",
        "f, ax = plt.subplots(figsize=(8, 4))\n",
        "ax = sns.countplot(x=a['Survived'], hue=a['Sex'], alpha=1)"
      ],
      "execution_count": 192,
      "outputs": [
        {
          "output_type": "display_data",
          "data": {
            "image/png": "[encoded data removed]",
            "text/plain": [
              "<Figure size 576x288 with 1 Axes>"
            ]
          },
          "metadata": {
            "tags": []
          }
        }
      ]
    },
    {
      "cell_type": "markdown",
      "metadata": {
        "id": "b6MR0ggJQtiJ",
        "colab_type": "text"
      },
      "source": [
        "This is a graph showing the Survival distribution in both the males and the females. For the passengers who died, males were more, for those who survived females were also more."
      ]
    },
    {
      "cell_type": "code",
      "metadata": {
        "id": "4-IIMD_uNXQY",
        "colab_type": "code",
        "outputId": "0f47931a-a3a9-4adf-d5bd-d45f727a836b",
        "colab": {
          "base_uri": "https://localhost:8080/",
          "height": 452
        }
      },
      "source": [
        "#Checking survival rates in both females and males.\n",
        "# \n",
        "w=a.groupby (['Sex','Survived'])['Survived'].count()\n",
        "print(w)\n",
        "\n",
        "# Pie chart for women distribution of survival.\n",
        "colors = [\"#ADFF2F\", \"#808000\"]\n",
        "sns.set_palette(sns.color_palette(colors))\n",
        "labels = ['Survived', 'died']\n",
        "sizes = [231, 81]\n",
        "explode = (0, 0.1)\n",
        "fig1, ax1 = plt.subplots()\n",
        "ax1.pie(sizes, explode=explode, labels=labels, autopct='%1.1f%%',shadow=True, startangle=90)"
      ],
      "execution_count": 193,
      "outputs": [
        {
          "output_type": "stream",
          "text": [
            "Sex     Survived\n",
            "female  0            76\n",
            "        1           168\n",
            "male    0           436\n",
            "        1            95\n",
            "Name: Survived, dtype: int64\n"
          ],
          "name": "stdout"
        },
        {
          "output_type": "execute_result",
          "data": {
            "text/plain": [
              "([<matplotlib.patches.Wedge at 0x7f38c1840dd8>,\n",
              "  <matplotlib.patches.Wedge at 0x7f38c184c748>],\n",
              " [Text(-0.800954994961995, -0.753970222253791, 'Survived'),\n",
              "  Text(0.87376900840386, 0.8225130515395701, 'died')],\n",
              " [Text(-0.43688454270654264, -0.4112564848657041, '74.0%'),\n",
              "  Text(0.5096985882355849, 0.47979928006474915, '26.0%')])"
            ]
          },
          "metadata": {
            "tags": []
          },
          "execution_count": 193
        },
        {
          "output_type": "display_data",
          "data": {
            "image/png": "[encoded data removed]",
            "text/plain": [
              "<Figure size 720x288 with 1 Axes>"
            ]
          },
          "metadata": {
            "tags": []
          }
        }
      ]
    },
    {
      "cell_type": "markdown",
      "metadata": {
        "id": "ee0coVmiQ5J6",
        "colab_type": "text"
      },
      "source": [
        "Out of all females tested, 6.8% tested positive  "
      ]
    },
    {
      "cell_type": "code",
      "metadata": {
        "id": "y4erwYwiOlVr",
        "colab_type": "code",
        "outputId": "e67765af-ad27-4719-a493-16e5052fb0f1",
        "colab": {
          "base_uri": "https://localhost:8080/",
          "height": 350
        }
      },
      "source": [
        "# Pie chart for men distribution of survival\n",
        "colors = [\"#0B6623\", \"#D1E231\"]\n",
        "sns.set_palette(sns.color_palette(colors))\n",
        "labels = ['survived', 'died']\n",
        "sizes = [109, 468]\n",
        "explode = (0, 0.1)\n",
        "fig1, ax1 = plt.subplots()\n",
        "ax1.pie(sizes, explode=explode, labels=labels, autopct='%1.1f%%',\n",
        "        shadow=True, startangle=90)"
      ],
      "execution_count": 194,
      "outputs": [
        {
          "output_type": "execute_result",
          "data": {
            "text/plain": [
              "([<matplotlib.patches.Wedge at 0x7f38c1808f60>,\n",
              "  <matplotlib.patches.Wedge at 0x7f38c18158d0>],\n",
              " [Text(-0.6151673599704987, 0.9119041173428966, 'survived'),\n",
              "  Text(0.671091618852202, -0.9948045230628633, 'died')],\n",
              " [Text(-0.33554583271118105, 0.4974022458233981, '18.9%'),\n",
              "  Text(0.3914701109971178, -0.580302638453337, '81.1%')])"
            ]
          },
          "metadata": {
            "tags": []
          },
          "execution_count": 194
        },
        {
          "output_type": "display_data",
          "data": {
            "image/png": "[encoded data removed]",
            "text/plain": [
              "<Figure size 720x288 with 1 Axes>"
            ]
          },
          "metadata": {
            "tags": []
          }
        }
      ]
    },
    {
      "cell_type": "markdown",
      "metadata": {
        "id": "DBi4Z_2ERHoF",
        "colab_type": "text"
      },
      "source": [
        "Out of all males tested, 4.7% tested positive.\n",
        "\n",
        "Though the women are more than men, it is interesting to note the more women are affected by the disease compared to men."
      ]
    },
    {
      "cell_type": "code",
      "metadata": {
        "id": "NqgoZVpsDdZ6",
        "colab_type": "code",
        "outputId": "b6b1d944-e368-4a43-e06d-4598f213e12c",
        "colab": {
          "base_uri": "https://localhost:8080/",
          "height": 353
        }
      },
      "source": [
        "colors = [\"#808080\", \"#BCF60C\"]\n",
        "sns.set_palette(sns.color_palette(colors))\n",
        "d = a.groupby(['Pclass', 'Survived', 'Sex'])['Survived'].count().unstack('Survived').fillna(0)\n",
        "d\n",
        "d.plot(kind='bar', stacked=True, )"
      ],
      "execution_count": 195,
      "outputs": [
        {
          "output_type": "execute_result",
          "data": {
            "text/plain": [
              "<matplotlib.axes._subplots.AxesSubplot at 0x7f38c1821fd0>"
            ]
          },
          "metadata": {
            "tags": []
          },
          "execution_count": 195
        },
        {
          "output_type": "display_data",
          "data": {
            "image/png": "[encoded data removed]",
            "text/plain": [
              "<Figure size 720x288 with 1 Axes>"
            ]
          },
          "metadata": {
            "tags": []
          }
        }
      ]
    },
    {
      "cell_type": "markdown",
      "metadata": {
        "id": "i-gIBDO8P9yU",
        "colab_type": "text"
      },
      "source": [
        "1st Class:\n",
        "\n",
        "No females died in the first class\n",
        "More males in 1st class died compared to females\n",
        "\n",
        "2nd Class:\n",
        "\n",
        "Almost all females survived in second class\n",
        "Almost all males died in second class\n",
        "\n",
        "3rd Class:\n",
        "\n",
        "Almost 50% females survived\n",
        "More than 80% males died in third class"
      ]
    },
    {
      "cell_type": "code",
      "metadata": {
        "id": "lWYNPwZJXRln",
        "colab_type": "code",
        "colab": {
          "base_uri": "https://localhost:8080/",
          "height": 299
        },
        "outputId": "3d9a1ccc-f0d3-4bac-84ff-43f27c50a7ed"
      },
      "source": [
        "colors = [\"#FFFF00\", \"#008000\"]\n",
        "sns.set_palette(sns.color_palette(colors))\n",
        "d = a.groupby(['Survived', 'SibSp'])['SibSp'].count().unstack('Survived').fillna(0)\n",
        "d\n",
        "d.plot(kind='bar', stacked=True, )"
      ],
      "execution_count": 201,
      "outputs": [
        {
          "output_type": "execute_result",
          "data": {
            "text/plain": [
              "<matplotlib.axes._subplots.AxesSubplot at 0x7f38c15815c0>"
            ]
          },
          "metadata": {
            "tags": []
          },
          "execution_count": 201
        },
        {
          "output_type": "display_data",
          "data": {
            "image/png": "[encoded data removed]",
            "text/plain": [
              "<Figure size 720x288 with 1 Axes>"
            ]
          },
          "metadata": {
            "tags": []
          }
        }
      ]
    },
    {
      "cell_type": "markdown",
      "metadata": {
        "id": "-ugdo3J5Y0jt",
        "colab_type": "text"
      },
      "source": [
        "The fewer the siblings and spouse the higher the chance of survival"
      ]
    },
    {
      "cell_type": "code",
      "metadata": {
        "id": "pkR1iNG2Xrs6",
        "colab_type": "code",
        "colab": {
          "base_uri": "https://localhost:8080/",
          "height": 299
        },
        "outputId": "155922cc-2636-4808-d8c2-7e2e13c848c4"
      },
      "source": [
        "colors = [\"#0B6623\", \"#D1E231\"]\n",
        "sns.set_palette(sns.color_palette(colors))\n",
        "d = a.groupby(['Survived', 'Parch'])['Parch'].count().unstack('Survived').fillna(0)\n",
        "d\n",
        "d.plot(kind='bar', stacked=True, )"
      ],
      "execution_count": 199,
      "outputs": [
        {
          "output_type": "execute_result",
          "data": {
            "text/plain": [
              "<matplotlib.axes._subplots.AxesSubplot at 0x7f38c15f02b0>"
            ]
          },
          "metadata": {
            "tags": []
          },
          "execution_count": 199
        },
        {
          "output_type": "display_data",
          "data": {
            "image/png": "[encoded data removed]",
            "text/plain": [
              "<Figure size 720x288 with 1 Axes>"
            ]
          },
          "metadata": {
            "tags": []
          }
        }
      ]
    },
    {
      "cell_type": "markdown",
      "metadata": {
        "id": "MyJZ19JfZolg",
        "colab_type": "text"
      },
      "source": [
        "The fewer the Parents and children a passenger had, the higher the chance of survival"
      ]
    },
    {
      "cell_type": "markdown",
      "metadata": {
        "id": "Kr3pA2I4o8ES",
        "colab_type": "text"
      },
      "source": [
        "## Multivariate Analysis"
      ]
    },
    {
      "cell_type": "markdown",
      "metadata": {
        "id": "c1pYVgPVWIZa",
        "colab_type": "text"
      },
      "source": [
        "This is a classification problem, LDA will be used to decide feature importance."
      ]
    },
    {
      "cell_type": "code",
      "metadata": {
        "id": "V1YoN3xgVem3",
        "colab_type": "code",
        "outputId": "eedc869b-d735-4c8c-869a-71777fa6e658",
        "colab": {
          "base_uri": "https://localhost:8080/",
          "height": 419
        }
      },
      "source": [
        "# Separating features and labels.\n",
        "# We drop the variables that are not important in the model\n",
        "X = a.drop(['PassengerId', 'Ticket', 'Survived'], axis=1)\n",
        "y = a[\"Survived\"]\n",
        "X\n",
        "# Some columns are strings. Encoding is needed."
      ],
      "execution_count": 202,
      "outputs": [
        {
          "output_type": "execute_result",
          "data": {
            "text/html": [
              "<div>\n",
              "<style scoped>\n",
              "    .dataframe tbody tr th:only-of-type {\n",
              "        vertical-align: middle;\n",
              "    }\n",
              "\n",
              "    .dataframe tbody tr th {\n",
              "        vertical-align: top;\n",
              "    }\n",
              "\n",
              "    .dataframe thead th {\n",
              "        text-align: right;\n",
              "    }\n",
              "</style>\n",
              "<table border=\"1\" class=\"dataframe\">\n",
              "  <thead>\n",
              "    <tr style=\"text-align: right;\">\n",
              "      <th></th>\n",
              "      <th>Pclass</th>\n",
              "      <th>Sex</th>\n",
              "      <th>Age</th>\n",
              "      <th>SibSp</th>\n",
              "      <th>Parch</th>\n",
              "      <th>Fare</th>\n",
              "      <th>Embarked</th>\n",
              "      <th>Title</th>\n",
              "    </tr>\n",
              "  </thead>\n",
              "  <tbody>\n",
              "    <tr>\n",
              "      <th>0</th>\n",
              "      <td>3</td>\n",
              "      <td>male</td>\n",
              "      <td>22.0</td>\n",
              "      <td>1</td>\n",
              "      <td>0</td>\n",
              "      <td>7.2500</td>\n",
              "      <td>S</td>\n",
              "      <td>Mr</td>\n",
              "    </tr>\n",
              "    <tr>\n",
              "      <th>2</th>\n",
              "      <td>3</td>\n",
              "      <td>female</td>\n",
              "      <td>26.0</td>\n",
              "      <td>0</td>\n",
              "      <td>0</td>\n",
              "      <td>7.9250</td>\n",
              "      <td>S</td>\n",
              "      <td>Miss</td>\n",
              "    </tr>\n",
              "    <tr>\n",
              "      <th>3</th>\n",
              "      <td>1</td>\n",
              "      <td>female</td>\n",
              "      <td>35.0</td>\n",
              "      <td>1</td>\n",
              "      <td>0</td>\n",
              "      <td>53.1000</td>\n",
              "      <td>S</td>\n",
              "      <td>Mrs</td>\n",
              "    </tr>\n",
              "    <tr>\n",
              "      <th>4</th>\n",
              "      <td>3</td>\n",
              "      <td>male</td>\n",
              "      <td>35.0</td>\n",
              "      <td>0</td>\n",
              "      <td>0</td>\n",
              "      <td>8.0500</td>\n",
              "      <td>S</td>\n",
              "      <td>Mr</td>\n",
              "    </tr>\n",
              "    <tr>\n",
              "      <th>5</th>\n",
              "      <td>3</td>\n",
              "      <td>male</td>\n",
              "      <td>28.0</td>\n",
              "      <td>0</td>\n",
              "      <td>0</td>\n",
              "      <td>8.4583</td>\n",
              "      <td>Q</td>\n",
              "      <td>Mr</td>\n",
              "    </tr>\n",
              "    <tr>\n",
              "      <th>...</th>\n",
              "      <td>...</td>\n",
              "      <td>...</td>\n",
              "      <td>...</td>\n",
              "      <td>...</td>\n",
              "      <td>...</td>\n",
              "      <td>...</td>\n",
              "      <td>...</td>\n",
              "      <td>...</td>\n",
              "    </tr>\n",
              "    <tr>\n",
              "      <th>886</th>\n",
              "      <td>2</td>\n",
              "      <td>male</td>\n",
              "      <td>27.0</td>\n",
              "      <td>0</td>\n",
              "      <td>0</td>\n",
              "      <td>13.0000</td>\n",
              "      <td>S</td>\n",
              "      <td>Mr</td>\n",
              "    </tr>\n",
              "    <tr>\n",
              "      <th>887</th>\n",
              "      <td>1</td>\n",
              "      <td>female</td>\n",
              "      <td>19.0</td>\n",
              "      <td>0</td>\n",
              "      <td>0</td>\n",
              "      <td>30.0000</td>\n",
              "      <td>S</td>\n",
              "      <td>Miss</td>\n",
              "    </tr>\n",
              "    <tr>\n",
              "      <th>888</th>\n",
              "      <td>3</td>\n",
              "      <td>female</td>\n",
              "      <td>24.0</td>\n",
              "      <td>1</td>\n",
              "      <td>2</td>\n",
              "      <td>23.4500</td>\n",
              "      <td>S</td>\n",
              "      <td>Miss</td>\n",
              "    </tr>\n",
              "    <tr>\n",
              "      <th>889</th>\n",
              "      <td>1</td>\n",
              "      <td>male</td>\n",
              "      <td>26.0</td>\n",
              "      <td>0</td>\n",
              "      <td>0</td>\n",
              "      <td>30.0000</td>\n",
              "      <td>C</td>\n",
              "      <td>Mr</td>\n",
              "    </tr>\n",
              "    <tr>\n",
              "      <th>890</th>\n",
              "      <td>3</td>\n",
              "      <td>male</td>\n",
              "      <td>32.0</td>\n",
              "      <td>0</td>\n",
              "      <td>0</td>\n",
              "      <td>7.7500</td>\n",
              "      <td>Q</td>\n",
              "      <td>Mr</td>\n",
              "    </tr>\n",
              "  </tbody>\n",
              "</table>\n",
              "<p>775 rows × 8 columns</p>\n",
              "</div>"
            ],
            "text/plain": [
              "    Pclass     Sex   Age  SibSp  Parch     Fare Embarked Title\n",
              "0        3    male  22.0      1      0   7.2500        S    Mr\n",
              "2        3  female  26.0      0      0   7.9250        S  Miss\n",
              "3        1  female  35.0      1      0  53.1000        S   Mrs\n",
              "4        3    male  35.0      0      0   8.0500        S    Mr\n",
              "5        3    male  28.0      0      0   8.4583        Q    Mr\n",
              "..     ...     ...   ...    ...    ...      ...      ...   ...\n",
              "886      2    male  27.0      0      0  13.0000        S    Mr\n",
              "887      1  female  19.0      0      0  30.0000        S  Miss\n",
              "888      3  female  24.0      1      2  23.4500        S  Miss\n",
              "889      1    male  26.0      0      0  30.0000        C    Mr\n",
              "890      3    male  32.0      0      0   7.7500        Q    Mr\n",
              "\n",
              "[775 rows x 8 columns]"
            ]
          },
          "metadata": {
            "tags": []
          },
          "execution_count": 202
        }
      ]
    },
    {
      "cell_type": "code",
      "metadata": {
        "id": "jBk-dLKIVehw",
        "colab_type": "code",
        "outputId": "7dd920f2-9d13-4e28-de1d-222dd8842a90",
        "colab": {
          "base_uri": "https://localhost:8080/",
          "height": 419
        }
      },
      "source": [
        "from sklearn import preprocessing \n",
        "  \n",
        "# label_encoder object knows how to understand word labels. \n",
        "label_encoder = preprocessing.LabelEncoder() \n",
        "  \n",
        "# Encode labels in column 'species'.\n",
        "p = ['Sex', 'Embarked', 'Title'] \n",
        "for i in p:\n",
        "  X[i] = label_encoder.fit_transform(X[i]) \n",
        " \n",
        "X "
      ],
      "execution_count": 203,
      "outputs": [
        {
          "output_type": "execute_result",
          "data": {
            "text/html": [
              "<div>\n",
              "<style scoped>\n",
              "    .dataframe tbody tr th:only-of-type {\n",
              "        vertical-align: middle;\n",
              "    }\n",
              "\n",
              "    .dataframe tbody tr th {\n",
              "        vertical-align: top;\n",
              "    }\n",
              "\n",
              "    .dataframe thead th {\n",
              "        text-align: right;\n",
              "    }\n",
              "</style>\n",
              "<table border=\"1\" class=\"dataframe\">\n",
              "  <thead>\n",
              "    <tr style=\"text-align: right;\">\n",
              "      <th></th>\n",
              "      <th>Pclass</th>\n",
              "      <th>Sex</th>\n",
              "      <th>Age</th>\n",
              "      <th>SibSp</th>\n",
              "      <th>Parch</th>\n",
              "      <th>Fare</th>\n",
              "      <th>Embarked</th>\n",
              "      <th>Title</th>\n",
              "    </tr>\n",
              "  </thead>\n",
              "  <tbody>\n",
              "    <tr>\n",
              "      <th>0</th>\n",
              "      <td>3</td>\n",
              "      <td>1</td>\n",
              "      <td>22.0</td>\n",
              "      <td>1</td>\n",
              "      <td>0</td>\n",
              "      <td>7.2500</td>\n",
              "      <td>2</td>\n",
              "      <td>2</td>\n",
              "    </tr>\n",
              "    <tr>\n",
              "      <th>2</th>\n",
              "      <td>3</td>\n",
              "      <td>0</td>\n",
              "      <td>26.0</td>\n",
              "      <td>0</td>\n",
              "      <td>0</td>\n",
              "      <td>7.9250</td>\n",
              "      <td>2</td>\n",
              "      <td>1</td>\n",
              "    </tr>\n",
              "    <tr>\n",
              "      <th>3</th>\n",
              "      <td>1</td>\n",
              "      <td>0</td>\n",
              "      <td>35.0</td>\n",
              "      <td>1</td>\n",
              "      <td>0</td>\n",
              "      <td>53.1000</td>\n",
              "      <td>2</td>\n",
              "      <td>3</td>\n",
              "    </tr>\n",
              "    <tr>\n",
              "      <th>4</th>\n",
              "      <td>3</td>\n",
              "      <td>1</td>\n",
              "      <td>35.0</td>\n",
              "      <td>0</td>\n",
              "      <td>0</td>\n",
              "      <td>8.0500</td>\n",
              "      <td>2</td>\n",
              "      <td>2</td>\n",
              "    </tr>\n",
              "    <tr>\n",
              "      <th>5</th>\n",
              "      <td>3</td>\n",
              "      <td>1</td>\n",
              "      <td>28.0</td>\n",
              "      <td>0</td>\n",
              "      <td>0</td>\n",
              "      <td>8.4583</td>\n",
              "      <td>1</td>\n",
              "      <td>2</td>\n",
              "    </tr>\n",
              "    <tr>\n",
              "      <th>...</th>\n",
              "      <td>...</td>\n",
              "      <td>...</td>\n",
              "      <td>...</td>\n",
              "      <td>...</td>\n",
              "      <td>...</td>\n",
              "      <td>...</td>\n",
              "      <td>...</td>\n",
              "      <td>...</td>\n",
              "    </tr>\n",
              "    <tr>\n",
              "      <th>886</th>\n",
              "      <td>2</td>\n",
              "      <td>1</td>\n",
              "      <td>27.0</td>\n",
              "      <td>0</td>\n",
              "      <td>0</td>\n",
              "      <td>13.0000</td>\n",
              "      <td>2</td>\n",
              "      <td>2</td>\n",
              "    </tr>\n",
              "    <tr>\n",
              "      <th>887</th>\n",
              "      <td>1</td>\n",
              "      <td>0</td>\n",
              "      <td>19.0</td>\n",
              "      <td>0</td>\n",
              "      <td>0</td>\n",
              "      <td>30.0000</td>\n",
              "      <td>2</td>\n",
              "      <td>1</td>\n",
              "    </tr>\n",
              "    <tr>\n",
              "      <th>888</th>\n",
              "      <td>3</td>\n",
              "      <td>0</td>\n",
              "      <td>24.0</td>\n",
              "      <td>1</td>\n",
              "      <td>2</td>\n",
              "      <td>23.4500</td>\n",
              "      <td>2</td>\n",
              "      <td>1</td>\n",
              "    </tr>\n",
              "    <tr>\n",
              "      <th>889</th>\n",
              "      <td>1</td>\n",
              "      <td>1</td>\n",
              "      <td>26.0</td>\n",
              "      <td>0</td>\n",
              "      <td>0</td>\n",
              "      <td>30.0000</td>\n",
              "      <td>0</td>\n",
              "      <td>2</td>\n",
              "    </tr>\n",
              "    <tr>\n",
              "      <th>890</th>\n",
              "      <td>3</td>\n",
              "      <td>1</td>\n",
              "      <td>32.0</td>\n",
              "      <td>0</td>\n",
              "      <td>0</td>\n",
              "      <td>7.7500</td>\n",
              "      <td>1</td>\n",
              "      <td>2</td>\n",
              "    </tr>\n",
              "  </tbody>\n",
              "</table>\n",
              "<p>775 rows × 8 columns</p>\n",
              "</div>"
            ],
            "text/plain": [
              "    Pclass  Sex   Age  SibSp  Parch     Fare  Embarked  Title\n",
              "0        3    1  22.0      1      0   7.2500         2      2\n",
              "2        3    0  26.0      0      0   7.9250         2      1\n",
              "3        1    0  35.0      1      0  53.1000         2      3\n",
              "4        3    1  35.0      0      0   8.0500         2      2\n",
              "5        3    1  28.0      0      0   8.4583         1      2\n",
              "..     ...  ...   ...    ...    ...      ...       ...    ...\n",
              "886      2    1  27.0      0      0  13.0000         2      2\n",
              "887      1    0  19.0      0      0  30.0000         2      1\n",
              "888      3    0  24.0      1      2  23.4500         2      1\n",
              "889      1    1  26.0      0      0  30.0000         0      2\n",
              "890      3    1  32.0      0      0   7.7500         1      2\n",
              "\n",
              "[775 rows x 8 columns]"
            ]
          },
          "metadata": {
            "tags": []
          },
          "execution_count": 203
        }
      ]
    },
    {
      "cell_type": "code",
      "metadata": {
        "id": "-3NUFWHhKzJC",
        "colab_type": "code",
        "colab": {}
      },
      "source": [
        "# The following code divides data into training and test sets\n",
        "#\n",
        "from sklearn.model_selection import train_test_split\n",
        "X_train, X_test, y_train, y_test = train_test_split(X, y, test_size=0.2, random_state=0)"
      ],
      "execution_count": 0,
      "outputs": []
    },
    {
      "cell_type": "code",
      "metadata": {
        "id": "JNLghD8LcHd7",
        "colab_type": "code",
        "outputId": "021a2ca7-2aec-4c13-cadf-f6607ec62fef",
        "colab": {
          "base_uri": "https://localhost:8080/",
          "height": 34
        }
      },
      "source": [
        "#Checking how many rows our train set has.\n",
        "#We have 8 columns.\n",
        "X_train.shape"
      ],
      "execution_count": 205,
      "outputs": [
        {
          "output_type": "execute_result",
          "data": {
            "text/plain": [
              "(620, 8)"
            ]
          },
          "metadata": {
            "tags": []
          },
          "execution_count": 205
        }
      ]
    },
    {
      "cell_type": "code",
      "metadata": {
        "id": "gbL3-sl1bJeg",
        "colab_type": "code",
        "colab": {}
      },
      "source": [
        "# Applying the LDA transformation.\n",
        "# To use a specified number of components we can specify\n",
        "#\n",
        "from sklearn.discriminant_analysis import LinearDiscriminantAnalysis as LDA\n",
        "lda = LDA()\n",
        "X_train = lda.fit_transform(X_train, y_train)\n",
        "X_test = lda.transform(X_test)"
      ],
      "execution_count": 0,
      "outputs": []
    },
    {
      "cell_type": "code",
      "metadata": {
        "id": "PsIJjSgSbr12",
        "colab_type": "code",
        "outputId": "5e689598-6cbe-4fa3-b6d0-3124424fc185",
        "colab": {
          "base_uri": "https://localhost:8080/",
          "height": 34
        }
      },
      "source": [
        "#Checking the number of rows after LDA transformation\n",
        "#\n",
        "X_train.shape"
      ],
      "execution_count": 207,
      "outputs": [
        {
          "output_type": "execute_result",
          "data": {
            "text/plain": [
              "(620, 1)"
            ]
          },
          "metadata": {
            "tags": []
          },
          "execution_count": 207
        }
      ]
    },
    {
      "cell_type": "markdown",
      "metadata": {
        "colab_type": "text",
        "id": "L1B5mSWXKGf2"
      },
      "source": [
        "LDA has reduced data to a one dimension"
      ]
    },
    {
      "cell_type": "markdown",
      "metadata": {
        "id": "XjWoelxYTsDr",
        "colab_type": "text"
      },
      "source": [
        "# IMPLEMENTING THE SOLUTION"
      ]
    },
    {
      "cell_type": "markdown",
      "metadata": {
        "id": "wRjTJTjooFTP",
        "colab_type": "text"
      },
      "source": [
        "## 1) \"Creating KNN model\""
      ]
    },
    {
      "cell_type": "code",
      "metadata": {
        "id": "xQrj7QBr_mwB",
        "colab_type": "code",
        "outputId": "008531ed-823a-4da1-84b5-08cab8b4109f",
        "colab": {
          "base_uri": "https://localhost:8080/",
          "height": 419
        }
      },
      "source": [
        "# Separating features and labels.\n",
        "# We drop the variables that are not important in the model\n",
        "X = a.drop(['PassengerId', 'Ticket', 'Survived'], axis=1)\n",
        "y = a[\"Survived\"]\n",
        "X\n",
        "# Some columns are strings. Encoding is needed."
      ],
      "execution_count": 208,
      "outputs": [
        {
          "output_type": "execute_result",
          "data": {
            "text/html": [
              "<div>\n",
              "<style scoped>\n",
              "    .dataframe tbody tr th:only-of-type {\n",
              "        vertical-align: middle;\n",
              "    }\n",
              "\n",
              "    .dataframe tbody tr th {\n",
              "        vertical-align: top;\n",
              "    }\n",
              "\n",
              "    .dataframe thead th {\n",
              "        text-align: right;\n",
              "    }\n",
              "</style>\n",
              "<table border=\"1\" class=\"dataframe\">\n",
              "  <thead>\n",
              "    <tr style=\"text-align: right;\">\n",
              "      <th></th>\n",
              "      <th>Pclass</th>\n",
              "      <th>Sex</th>\n",
              "      <th>Age</th>\n",
              "      <th>SibSp</th>\n",
              "      <th>Parch</th>\n",
              "      <th>Fare</th>\n",
              "      <th>Embarked</th>\n",
              "      <th>Title</th>\n",
              "    </tr>\n",
              "  </thead>\n",
              "  <tbody>\n",
              "    <tr>\n",
              "      <th>0</th>\n",
              "      <td>3</td>\n",
              "      <td>male</td>\n",
              "      <td>22.0</td>\n",
              "      <td>1</td>\n",
              "      <td>0</td>\n",
              "      <td>7.2500</td>\n",
              "      <td>S</td>\n",
              "      <td>Mr</td>\n",
              "    </tr>\n",
              "    <tr>\n",
              "      <th>2</th>\n",
              "      <td>3</td>\n",
              "      <td>female</td>\n",
              "      <td>26.0</td>\n",
              "      <td>0</td>\n",
              "      <td>0</td>\n",
              "      <td>7.9250</td>\n",
              "      <td>S</td>\n",
              "      <td>Miss</td>\n",
              "    </tr>\n",
              "    <tr>\n",
              "      <th>3</th>\n",
              "      <td>1</td>\n",
              "      <td>female</td>\n",
              "      <td>35.0</td>\n",
              "      <td>1</td>\n",
              "      <td>0</td>\n",
              "      <td>53.1000</td>\n",
              "      <td>S</td>\n",
              "      <td>Mrs</td>\n",
              "    </tr>\n",
              "    <tr>\n",
              "      <th>4</th>\n",
              "      <td>3</td>\n",
              "      <td>male</td>\n",
              "      <td>35.0</td>\n",
              "      <td>0</td>\n",
              "      <td>0</td>\n",
              "      <td>8.0500</td>\n",
              "      <td>S</td>\n",
              "      <td>Mr</td>\n",
              "    </tr>\n",
              "    <tr>\n",
              "      <th>5</th>\n",
              "      <td>3</td>\n",
              "      <td>male</td>\n",
              "      <td>28.0</td>\n",
              "      <td>0</td>\n",
              "      <td>0</td>\n",
              "      <td>8.4583</td>\n",
              "      <td>Q</td>\n",
              "      <td>Mr</td>\n",
              "    </tr>\n",
              "    <tr>\n",
              "      <th>...</th>\n",
              "      <td>...</td>\n",
              "      <td>...</td>\n",
              "      <td>...</td>\n",
              "      <td>...</td>\n",
              "      <td>...</td>\n",
              "      <td>...</td>\n",
              "      <td>...</td>\n",
              "      <td>...</td>\n",
              "    </tr>\n",
              "    <tr>\n",
              "      <th>886</th>\n",
              "      <td>2</td>\n",
              "      <td>male</td>\n",
              "      <td>27.0</td>\n",
              "      <td>0</td>\n",
              "      <td>0</td>\n",
              "      <td>13.0000</td>\n",
              "      <td>S</td>\n",
              "      <td>Mr</td>\n",
              "    </tr>\n",
              "    <tr>\n",
              "      <th>887</th>\n",
              "      <td>1</td>\n",
              "      <td>female</td>\n",
              "      <td>19.0</td>\n",
              "      <td>0</td>\n",
              "      <td>0</td>\n",
              "      <td>30.0000</td>\n",
              "      <td>S</td>\n",
              "      <td>Miss</td>\n",
              "    </tr>\n",
              "    <tr>\n",
              "      <th>888</th>\n",
              "      <td>3</td>\n",
              "      <td>female</td>\n",
              "      <td>24.0</td>\n",
              "      <td>1</td>\n",
              "      <td>2</td>\n",
              "      <td>23.4500</td>\n",
              "      <td>S</td>\n",
              "      <td>Miss</td>\n",
              "    </tr>\n",
              "    <tr>\n",
              "      <th>889</th>\n",
              "      <td>1</td>\n",
              "      <td>male</td>\n",
              "      <td>26.0</td>\n",
              "      <td>0</td>\n",
              "      <td>0</td>\n",
              "      <td>30.0000</td>\n",
              "      <td>C</td>\n",
              "      <td>Mr</td>\n",
              "    </tr>\n",
              "    <tr>\n",
              "      <th>890</th>\n",
              "      <td>3</td>\n",
              "      <td>male</td>\n",
              "      <td>32.0</td>\n",
              "      <td>0</td>\n",
              "      <td>0</td>\n",
              "      <td>7.7500</td>\n",
              "      <td>Q</td>\n",
              "      <td>Mr</td>\n",
              "    </tr>\n",
              "  </tbody>\n",
              "</table>\n",
              "<p>775 rows × 8 columns</p>\n",
              "</div>"
            ],
            "text/plain": [
              "    Pclass     Sex   Age  SibSp  Parch     Fare Embarked Title\n",
              "0        3    male  22.0      1      0   7.2500        S    Mr\n",
              "2        3  female  26.0      0      0   7.9250        S  Miss\n",
              "3        1  female  35.0      1      0  53.1000        S   Mrs\n",
              "4        3    male  35.0      0      0   8.0500        S    Mr\n",
              "5        3    male  28.0      0      0   8.4583        Q    Mr\n",
              "..     ...     ...   ...    ...    ...      ...      ...   ...\n",
              "886      2    male  27.0      0      0  13.0000        S    Mr\n",
              "887      1  female  19.0      0      0  30.0000        S  Miss\n",
              "888      3  female  24.0      1      2  23.4500        S  Miss\n",
              "889      1    male  26.0      0      0  30.0000        C    Mr\n",
              "890      3    male  32.0      0      0   7.7500        Q    Mr\n",
              "\n",
              "[775 rows x 8 columns]"
            ]
          },
          "metadata": {
            "tags": []
          },
          "execution_count": 208
        }
      ]
    },
    {
      "cell_type": "code",
      "metadata": {
        "id": "Y3kaJU0lEy_9",
        "colab_type": "code",
        "outputId": "f2d45379-852b-4358-d272-8fe80e745c43",
        "colab": {
          "base_uri": "https://localhost:8080/",
          "height": 419
        }
      },
      "source": [
        "from sklearn import preprocessing \n",
        "  \n",
        "# label_encoder object knows how to understand word labels. \n",
        "label_encoder = preprocessing.LabelEncoder() \n",
        "  \n",
        "# Encode labels in column 'species'.\n",
        "p = ['Sex', 'Embarked', 'Title'] \n",
        "for i in p:\n",
        "  X[i] = label_encoder.fit_transform(X[i]) \n",
        " \n",
        "X "
      ],
      "execution_count": 209,
      "outputs": [
        {
          "output_type": "execute_result",
          "data": {
            "text/html": [
              "<div>\n",
              "<style scoped>\n",
              "    .dataframe tbody tr th:only-of-type {\n",
              "        vertical-align: middle;\n",
              "    }\n",
              "\n",
              "    .dataframe tbody tr th {\n",
              "        vertical-align: top;\n",
              "    }\n",
              "\n",
              "    .dataframe thead th {\n",
              "        text-align: right;\n",
              "    }\n",
              "</style>\n",
              "<table border=\"1\" class=\"dataframe\">\n",
              "  <thead>\n",
              "    <tr style=\"text-align: right;\">\n",
              "      <th></th>\n",
              "      <th>Pclass</th>\n",
              "      <th>Sex</th>\n",
              "      <th>Age</th>\n",
              "      <th>SibSp</th>\n",
              "      <th>Parch</th>\n",
              "      <th>Fare</th>\n",
              "      <th>Embarked</th>\n",
              "      <th>Title</th>\n",
              "    </tr>\n",
              "  </thead>\n",
              "  <tbody>\n",
              "    <tr>\n",
              "      <th>0</th>\n",
              "      <td>3</td>\n",
              "      <td>1</td>\n",
              "      <td>22.0</td>\n",
              "      <td>1</td>\n",
              "      <td>0</td>\n",
              "      <td>7.2500</td>\n",
              "      <td>2</td>\n",
              "      <td>2</td>\n",
              "    </tr>\n",
              "    <tr>\n",
              "      <th>2</th>\n",
              "      <td>3</td>\n",
              "      <td>0</td>\n",
              "      <td>26.0</td>\n",
              "      <td>0</td>\n",
              "      <td>0</td>\n",
              "      <td>7.9250</td>\n",
              "      <td>2</td>\n",
              "      <td>1</td>\n",
              "    </tr>\n",
              "    <tr>\n",
              "      <th>3</th>\n",
              "      <td>1</td>\n",
              "      <td>0</td>\n",
              "      <td>35.0</td>\n",
              "      <td>1</td>\n",
              "      <td>0</td>\n",
              "      <td>53.1000</td>\n",
              "      <td>2</td>\n",
              "      <td>3</td>\n",
              "    </tr>\n",
              "    <tr>\n",
              "      <th>4</th>\n",
              "      <td>3</td>\n",
              "      <td>1</td>\n",
              "      <td>35.0</td>\n",
              "      <td>0</td>\n",
              "      <td>0</td>\n",
              "      <td>8.0500</td>\n",
              "      <td>2</td>\n",
              "      <td>2</td>\n",
              "    </tr>\n",
              "    <tr>\n",
              "      <th>5</th>\n",
              "      <td>3</td>\n",
              "      <td>1</td>\n",
              "      <td>28.0</td>\n",
              "      <td>0</td>\n",
              "      <td>0</td>\n",
              "      <td>8.4583</td>\n",
              "      <td>1</td>\n",
              "      <td>2</td>\n",
              "    </tr>\n",
              "    <tr>\n",
              "      <th>...</th>\n",
              "      <td>...</td>\n",
              "      <td>...</td>\n",
              "      <td>...</td>\n",
              "      <td>...</td>\n",
              "      <td>...</td>\n",
              "      <td>...</td>\n",
              "      <td>...</td>\n",
              "      <td>...</td>\n",
              "    </tr>\n",
              "    <tr>\n",
              "      <th>886</th>\n",
              "      <td>2</td>\n",
              "      <td>1</td>\n",
              "      <td>27.0</td>\n",
              "      <td>0</td>\n",
              "      <td>0</td>\n",
              "      <td>13.0000</td>\n",
              "      <td>2</td>\n",
              "      <td>2</td>\n",
              "    </tr>\n",
              "    <tr>\n",
              "      <th>887</th>\n",
              "      <td>1</td>\n",
              "      <td>0</td>\n",
              "      <td>19.0</td>\n",
              "      <td>0</td>\n",
              "      <td>0</td>\n",
              "      <td>30.0000</td>\n",
              "      <td>2</td>\n",
              "      <td>1</td>\n",
              "    </tr>\n",
              "    <tr>\n",
              "      <th>888</th>\n",
              "      <td>3</td>\n",
              "      <td>0</td>\n",
              "      <td>24.0</td>\n",
              "      <td>1</td>\n",
              "      <td>2</td>\n",
              "      <td>23.4500</td>\n",
              "      <td>2</td>\n",
              "      <td>1</td>\n",
              "    </tr>\n",
              "    <tr>\n",
              "      <th>889</th>\n",
              "      <td>1</td>\n",
              "      <td>1</td>\n",
              "      <td>26.0</td>\n",
              "      <td>0</td>\n",
              "      <td>0</td>\n",
              "      <td>30.0000</td>\n",
              "      <td>0</td>\n",
              "      <td>2</td>\n",
              "    </tr>\n",
              "    <tr>\n",
              "      <th>890</th>\n",
              "      <td>3</td>\n",
              "      <td>1</td>\n",
              "      <td>32.0</td>\n",
              "      <td>0</td>\n",
              "      <td>0</td>\n",
              "      <td>7.7500</td>\n",
              "      <td>1</td>\n",
              "      <td>2</td>\n",
              "    </tr>\n",
              "  </tbody>\n",
              "</table>\n",
              "<p>775 rows × 8 columns</p>\n",
              "</div>"
            ],
            "text/plain": [
              "    Pclass  Sex   Age  SibSp  Parch     Fare  Embarked  Title\n",
              "0        3    1  22.0      1      0   7.2500         2      2\n",
              "2        3    0  26.0      0      0   7.9250         2      1\n",
              "3        1    0  35.0      1      0  53.1000         2      3\n",
              "4        3    1  35.0      0      0   8.0500         2      2\n",
              "5        3    1  28.0      0      0   8.4583         1      2\n",
              "..     ...  ...   ...    ...    ...      ...       ...    ...\n",
              "886      2    1  27.0      0      0  13.0000         2      2\n",
              "887      1    0  19.0      0      0  30.0000         2      1\n",
              "888      3    0  24.0      1      2  23.4500         2      1\n",
              "889      1    1  26.0      0      0  30.0000         0      2\n",
              "890      3    1  32.0      0      0   7.7500         1      2\n",
              "\n",
              "[775 rows x 8 columns]"
            ]
          },
          "metadata": {
            "tags": []
          },
          "execution_count": 209
        }
      ]
    },
    {
      "cell_type": "code",
      "metadata": {
        "id": "DKXC4v1JwH9G",
        "colab_type": "code",
        "colab": {}
      },
      "source": [
        "#Separating training and testing datasets\n",
        "from sklearn.model_selection import train_test_split\n",
        "X_train, X_test, y_train, y_test = train_test_split(X, y, test_size = .3, random_state=25)"
      ],
      "execution_count": 0,
      "outputs": []
    },
    {
      "cell_type": "code",
      "metadata": {
        "id": "30YlwvWFxIfe",
        "colab_type": "code",
        "outputId": "6689f1b9-e04f-4a7c-c8fd-9f13518747c6",
        "colab": {
          "base_uri": "https://localhost:8080/",
          "height": 68
        }
      },
      "source": [
        "# Training model\n",
        "from sklearn.neighbors import KNeighborsClassifier\n",
        "classifier = KNeighborsClassifier()\n",
        "classifier.fit(X_train, y_train)"
      ],
      "execution_count": 211,
      "outputs": [
        {
          "output_type": "execute_result",
          "data": {
            "text/plain": [
              "KNeighborsClassifier(algorithm='auto', leaf_size=30, metric='minkowski',\n",
              "                     metric_params=None, n_jobs=None, n_neighbors=5, p=2,\n",
              "                     weights='uniform')"
            ]
          },
          "metadata": {
            "tags": []
          },
          "execution_count": 211
        }
      ]
    },
    {
      "cell_type": "code",
      "metadata": {
        "id": "jHmyQl6Fyflo",
        "colab_type": "code",
        "outputId": "69bad459-763b-45e9-9c81-96e9f84092f7",
        "colab": {
          "base_uri": "https://localhost:8080/",
          "height": 419
        }
      },
      "source": [
        "#Prediction.\n",
        "y_pred = classifier.predict(X_test)\n",
        "w = pd.DataFrame({'actual' : y_test, 'predicted' : y_pred})\n",
        "w"
      ],
      "execution_count": 212,
      "outputs": [
        {
          "output_type": "execute_result",
          "data": {
            "text/html": [
              "<div>\n",
              "<style scoped>\n",
              "    .dataframe tbody tr th:only-of-type {\n",
              "        vertical-align: middle;\n",
              "    }\n",
              "\n",
              "    .dataframe tbody tr th {\n",
              "        vertical-align: top;\n",
              "    }\n",
              "\n",
              "    .dataframe thead th {\n",
              "        text-align: right;\n",
              "    }\n",
              "</style>\n",
              "<table border=\"1\" class=\"dataframe\">\n",
              "  <thead>\n",
              "    <tr style=\"text-align: right;\">\n",
              "      <th></th>\n",
              "      <th>actual</th>\n",
              "      <th>predicted</th>\n",
              "    </tr>\n",
              "  </thead>\n",
              "  <tbody>\n",
              "    <tr>\n",
              "      <th>732</th>\n",
              "      <td>0</td>\n",
              "      <td>0</td>\n",
              "    </tr>\n",
              "    <tr>\n",
              "      <th>543</th>\n",
              "      <td>1</td>\n",
              "      <td>1</td>\n",
              "    </tr>\n",
              "    <tr>\n",
              "      <th>442</th>\n",
              "      <td>0</td>\n",
              "      <td>0</td>\n",
              "    </tr>\n",
              "    <tr>\n",
              "      <th>115</th>\n",
              "      <td>0</td>\n",
              "      <td>0</td>\n",
              "    </tr>\n",
              "    <tr>\n",
              "      <th>740</th>\n",
              "      <td>1</td>\n",
              "      <td>0</td>\n",
              "    </tr>\n",
              "    <tr>\n",
              "      <th>...</th>\n",
              "      <td>...</td>\n",
              "      <td>...</td>\n",
              "    </tr>\n",
              "    <tr>\n",
              "      <th>107</th>\n",
              "      <td>1</td>\n",
              "      <td>0</td>\n",
              "    </tr>\n",
              "    <tr>\n",
              "      <th>439</th>\n",
              "      <td>0</td>\n",
              "      <td>1</td>\n",
              "    </tr>\n",
              "    <tr>\n",
              "      <th>819</th>\n",
              "      <td>0</td>\n",
              "      <td>0</td>\n",
              "    </tr>\n",
              "    <tr>\n",
              "      <th>818</th>\n",
              "      <td>0</td>\n",
              "      <td>0</td>\n",
              "    </tr>\n",
              "    <tr>\n",
              "      <th>519</th>\n",
              "      <td>0</td>\n",
              "      <td>0</td>\n",
              "    </tr>\n",
              "  </tbody>\n",
              "</table>\n",
              "<p>233 rows × 2 columns</p>\n",
              "</div>"
            ],
            "text/plain": [
              "    actual  predicted\n",
              "732      0          0\n",
              "543      1          1\n",
              "442      0          0\n",
              "115      0          0\n",
              "740      1          0\n",
              "..     ...        ...\n",
              "107      1          0\n",
              "439      0          1\n",
              "819      0          0\n",
              "818      0          0\n",
              "519      0          0\n",
              "\n",
              "[233 rows x 2 columns]"
            ]
          },
          "metadata": {
            "tags": []
          },
          "execution_count": 212
        }
      ]
    },
    {
      "cell_type": "code",
      "metadata": {
        "id": "94NrSCoDydPQ",
        "colab_type": "code",
        "outputId": "b1102564-30b5-4167-e56d-748f423019fa",
        "colab": {
          "base_uri": "https://localhost:8080/",
          "height": 204
        }
      },
      "source": [
        "from sklearn.metrics import classification_report, confusion_matrix\n",
        "print(confusion_matrix(y_test, y_pred))\n",
        "print(classification_report(y_test, y_pred))"
      ],
      "execution_count": 213,
      "outputs": [
        {
          "output_type": "stream",
          "text": [
            "[[127  21]\n",
            " [ 45  40]]\n",
            "              precision    recall  f1-score   support\n",
            "\n",
            "           0       0.74      0.86      0.79       148\n",
            "           1       0.66      0.47      0.55        85\n",
            "\n",
            "    accuracy                           0.72       233\n",
            "   macro avg       0.70      0.66      0.67       233\n",
            "weighted avg       0.71      0.72      0.70       233\n",
            "\n"
          ],
          "name": "stdout"
        }
      ]
    },
    {
      "cell_type": "markdown",
      "metadata": {
        "id": "DVW8Et2rDaLf",
        "colab_type": "text"
      },
      "source": [
        "Model has an f1 score of 0.79"
      ]
    },
    {
      "cell_type": "markdown",
      "metadata": {
        "id": "eW9n2wcMH70K",
        "colab_type": "text"
      },
      "source": [
        "# Hyperparameter tuning the KNN Model"
      ]
    },
    {
      "cell_type": "code",
      "metadata": {
        "id": "ypXeWN2oYxps",
        "colab_type": "code",
        "outputId": "ade911e2-0788-43f0-d128-a0c63cfca9fd",
        "colab": {
          "base_uri": "https://localhost:8080/",
          "height": 51
        }
      },
      "source": [
        "#import GridSearchCV\n",
        "from sklearn.model_selection import GridSearchCV\n",
        "\n",
        "#In case of classifier like knn the parameter to be tuned is n_neighbors\n",
        "param_grid = { 'n_neighbors' : range(1,20),\n",
        "          'metric' : ['euclidean', 'manhattan', 'minkowski'],\n",
        "          'weights': ['uniform', 'distance']}\n",
        "classifier = KNeighborsClassifier( )\n",
        "clf= GridSearchCV(classifier,param_grid,cv=5)\n",
        "\n",
        "clf.fit(X,y)\n",
        "\n",
        "print(\"Best Score:\" + str(clf.best_score_))\n",
        "print(\"Best Parameters: \" + str(clf.best_params_))"
      ],
      "execution_count": 52,
      "outputs": [
        {
          "output_type": "stream",
          "text": [
            "Best Score:0.7587096774193548\n",
            "Best Parameters: {'metric': 'manhattan', 'n_neighbors': 3, 'weights': 'uniform'}\n"
          ],
          "name": "stdout"
        }
      ]
    },
    {
      "cell_type": "code",
      "metadata": {
        "id": "IuaBQjJ3bEHX",
        "colab_type": "code",
        "outputId": "70a2b15c-1397-4478-f600-bf4090fd390b",
        "colab": {
          "base_uri": "https://localhost:8080/",
          "height": 68
        }
      },
      "source": [
        "# Fitting the model with the new parameters.\n",
        "# Training model\n",
        "from sklearn.neighbors import KNeighborsClassifier\n",
        "classifier = KNeighborsClassifier(n_neighbors=3, weights='uniform', metric='manhattan')\n",
        "classifier.fit(X_train, y_train)"
      ],
      "execution_count": 214,
      "outputs": [
        {
          "output_type": "execute_result",
          "data": {
            "text/plain": [
              "KNeighborsClassifier(algorithm='auto', leaf_size=30, metric='manhattan',\n",
              "                     metric_params=None, n_jobs=None, n_neighbors=3, p=2,\n",
              "                     weights='uniform')"
            ]
          },
          "metadata": {
            "tags": []
          },
          "execution_count": 214
        }
      ]
    },
    {
      "cell_type": "code",
      "metadata": {
        "id": "sgnTzpVAbl7H",
        "colab_type": "code",
        "outputId": "93ede0fb-4739-4371-d789-5271fbb34835",
        "colab": {
          "base_uri": "https://localhost:8080/",
          "height": 419
        }
      },
      "source": [
        "#Prediction.\n",
        "y_pred_tuned = classifier.predict(X_test)\n",
        "w1 = pd.DataFrame({'actual' : y_test, 'predicted' : y_pred_tuned})\n",
        "w1"
      ],
      "execution_count": 215,
      "outputs": [
        {
          "output_type": "execute_result",
          "data": {
            "text/html": [
              "<div>\n",
              "<style scoped>\n",
              "    .dataframe tbody tr th:only-of-type {\n",
              "        vertical-align: middle;\n",
              "    }\n",
              "\n",
              "    .dataframe tbody tr th {\n",
              "        vertical-align: top;\n",
              "    }\n",
              "\n",
              "    .dataframe thead th {\n",
              "        text-align: right;\n",
              "    }\n",
              "</style>\n",
              "<table border=\"1\" class=\"dataframe\">\n",
              "  <thead>\n",
              "    <tr style=\"text-align: right;\">\n",
              "      <th></th>\n",
              "      <th>actual</th>\n",
              "      <th>predicted</th>\n",
              "    </tr>\n",
              "  </thead>\n",
              "  <tbody>\n",
              "    <tr>\n",
              "      <th>732</th>\n",
              "      <td>0</td>\n",
              "      <td>0</td>\n",
              "    </tr>\n",
              "    <tr>\n",
              "      <th>543</th>\n",
              "      <td>1</td>\n",
              "      <td>0</td>\n",
              "    </tr>\n",
              "    <tr>\n",
              "      <th>442</th>\n",
              "      <td>0</td>\n",
              "      <td>0</td>\n",
              "    </tr>\n",
              "    <tr>\n",
              "      <th>115</th>\n",
              "      <td>0</td>\n",
              "      <td>0</td>\n",
              "    </tr>\n",
              "    <tr>\n",
              "      <th>740</th>\n",
              "      <td>1</td>\n",
              "      <td>0</td>\n",
              "    </tr>\n",
              "    <tr>\n",
              "      <th>...</th>\n",
              "      <td>...</td>\n",
              "      <td>...</td>\n",
              "    </tr>\n",
              "    <tr>\n",
              "      <th>107</th>\n",
              "      <td>1</td>\n",
              "      <td>0</td>\n",
              "    </tr>\n",
              "    <tr>\n",
              "      <th>439</th>\n",
              "      <td>0</td>\n",
              "      <td>0</td>\n",
              "    </tr>\n",
              "    <tr>\n",
              "      <th>819</th>\n",
              "      <td>0</td>\n",
              "      <td>0</td>\n",
              "    </tr>\n",
              "    <tr>\n",
              "      <th>818</th>\n",
              "      <td>0</td>\n",
              "      <td>0</td>\n",
              "    </tr>\n",
              "    <tr>\n",
              "      <th>519</th>\n",
              "      <td>0</td>\n",
              "      <td>1</td>\n",
              "    </tr>\n",
              "  </tbody>\n",
              "</table>\n",
              "<p>233 rows × 2 columns</p>\n",
              "</div>"
            ],
            "text/plain": [
              "    actual  predicted\n",
              "732      0          0\n",
              "543      1          0\n",
              "442      0          0\n",
              "115      0          0\n",
              "740      1          0\n",
              "..     ...        ...\n",
              "107      1          0\n",
              "439      0          0\n",
              "819      0          0\n",
              "818      0          0\n",
              "519      0          1\n",
              "\n",
              "[233 rows x 2 columns]"
            ]
          },
          "metadata": {
            "tags": []
          },
          "execution_count": 215
        }
      ]
    },
    {
      "cell_type": "code",
      "metadata": {
        "id": "wtBDMq2ebwXg",
        "colab_type": "code",
        "outputId": "279cdff3-ef6c-461f-e91b-3f07d34874a7",
        "colab": {
          "base_uri": "https://localhost:8080/",
          "height": 204
        }
      },
      "source": [
        "from sklearn.metrics import classification_report, confusion_matrix\n",
        "print(confusion_matrix(y_test, y_pred_tuned))\n",
        "print(classification_report(y_test, y_pred_tuned))"
      ],
      "execution_count": 216,
      "outputs": [
        {
          "output_type": "stream",
          "text": [
            "[[129  19]\n",
            " [ 35  50]]\n",
            "              precision    recall  f1-score   support\n",
            "\n",
            "           0       0.79      0.87      0.83       148\n",
            "           1       0.72      0.59      0.65        85\n",
            "\n",
            "    accuracy                           0.77       233\n",
            "   macro avg       0.76      0.73      0.74       233\n",
            "weighted avg       0.76      0.77      0.76       233\n",
            "\n"
          ],
          "name": "stdout"
        }
      ]
    },
    {
      "cell_type": "markdown",
      "metadata": {
        "id": "LDCKRK9Tb8zP",
        "colab_type": "text"
      },
      "source": [
        "Model has a higher f1-score of 0.83 after hyperparameter tuning"
      ]
    },
    {
      "cell_type": "markdown",
      "metadata": {
        "id": "x4trpKFDpPNf",
        "colab_type": "text"
      },
      "source": [
        "# Conclusion on the K-NN models"
      ]
    },
    {
      "cell_type": "markdown",
      "metadata": {
        "id": "3Hv5KWXcqVJB",
        "colab_type": "text"
      },
      "source": [
        "The KNN classification model had an f1-score of 0.79. After hyperparametre tuning, the F1_score improved to 0.83. "
      ]
    },
    {
      "cell_type": "markdown",
      "metadata": {
        "id": "vTbdjSrhVIiT",
        "colab_type": "text"
      },
      "source": [
        "# PART 2"
      ]
    },
    {
      "cell_type": "markdown",
      "metadata": {
        "id": "u1tSoWHmhY4a",
        "colab_type": "text"
      },
      "source": [
        "# READING THE DATA"
      ]
    },
    {
      "cell_type": "code",
      "metadata": {
        "id": "sfy0d5D3iygL",
        "colab_type": "code",
        "colab": {}
      },
      "source": [
        "#Loading the dataset.\n",
        "#\n",
        "df = pd.read_csv('/content/spambase.data', header = None)"
      ],
      "execution_count": 0,
      "outputs": []
    },
    {
      "cell_type": "markdown",
      "metadata": {
        "id": "3MFUwofoVr8Y",
        "colab_type": "text"
      },
      "source": [
        "# CHECKING THE DATA"
      ]
    },
    {
      "cell_type": "code",
      "metadata": {
        "id": "huKyMkzWmSC8",
        "colab_type": "code",
        "outputId": "f4b87fcd-4d1b-4742-b4a4-3361b5d28086",
        "colab": {
          "base_uri": "https://localhost:8080/",
          "height": 379
        }
      },
      "source": [
        "#Sampling 10 rows of data.\n",
        "#\n",
        "df.sample(10)"
      ],
      "execution_count": 119,
      "outputs": [
        {
          "output_type": "execute_result",
          "data": {
            "text/html": [
              "<div>\n",
              "<style scoped>\n",
              "    .dataframe tbody tr th:only-of-type {\n",
              "        vertical-align: middle;\n",
              "    }\n",
              "\n",
              "    .dataframe tbody tr th {\n",
              "        vertical-align: top;\n",
              "    }\n",
              "\n",
              "    .dataframe thead th {\n",
              "        text-align: right;\n",
              "    }\n",
              "</style>\n",
              "<table border=\"1\" class=\"dataframe\">\n",
              "  <thead>\n",
              "    <tr style=\"text-align: right;\">\n",
              "      <th></th>\n",
              "      <th>0</th>\n",
              "      <th>1</th>\n",
              "      <th>2</th>\n",
              "      <th>3</th>\n",
              "      <th>4</th>\n",
              "      <th>5</th>\n",
              "      <th>6</th>\n",
              "      <th>7</th>\n",
              "      <th>8</th>\n",
              "      <th>9</th>\n",
              "      <th>10</th>\n",
              "      <th>11</th>\n",
              "      <th>12</th>\n",
              "      <th>13</th>\n",
              "      <th>14</th>\n",
              "      <th>15</th>\n",
              "      <th>16</th>\n",
              "      <th>17</th>\n",
              "      <th>18</th>\n",
              "      <th>19</th>\n",
              "      <th>20</th>\n",
              "      <th>21</th>\n",
              "      <th>22</th>\n",
              "      <th>23</th>\n",
              "      <th>24</th>\n",
              "      <th>25</th>\n",
              "      <th>26</th>\n",
              "      <th>27</th>\n",
              "      <th>28</th>\n",
              "      <th>29</th>\n",
              "      <th>30</th>\n",
              "      <th>31</th>\n",
              "      <th>32</th>\n",
              "      <th>33</th>\n",
              "      <th>34</th>\n",
              "      <th>35</th>\n",
              "      <th>36</th>\n",
              "      <th>37</th>\n",
              "      <th>38</th>\n",
              "      <th>39</th>\n",
              "      <th>40</th>\n",
              "      <th>41</th>\n",
              "      <th>42</th>\n",
              "      <th>43</th>\n",
              "      <th>44</th>\n",
              "      <th>45</th>\n",
              "      <th>46</th>\n",
              "      <th>47</th>\n",
              "      <th>48</th>\n",
              "      <th>49</th>\n",
              "      <th>50</th>\n",
              "      <th>51</th>\n",
              "      <th>52</th>\n",
              "      <th>53</th>\n",
              "      <th>54</th>\n",
              "      <th>55</th>\n",
              "      <th>56</th>\n",
              "      <th>57</th>\n",
              "    </tr>\n",
              "  </thead>\n",
              "  <tbody>\n",
              "    <tr>\n",
              "      <th>4087</th>\n",
              "      <td>0.49</td>\n",
              "      <td>0.00</td>\n",
              "      <td>0.49</td>\n",
              "      <td>0.0</td>\n",
              "      <td>0.49</td>\n",
              "      <td>0.00</td>\n",
              "      <td>0.00</td>\n",
              "      <td>0.00</td>\n",
              "      <td>0.00</td>\n",
              "      <td>0.00</td>\n",
              "      <td>0.00</td>\n",
              "      <td>0.99</td>\n",
              "      <td>0.00</td>\n",
              "      <td>0.00</td>\n",
              "      <td>0.00</td>\n",
              "      <td>0.00</td>\n",
              "      <td>0.00</td>\n",
              "      <td>0.00</td>\n",
              "      <td>0.99</td>\n",
              "      <td>0.00</td>\n",
              "      <td>0.00</td>\n",
              "      <td>0.0</td>\n",
              "      <td>0.00</td>\n",
              "      <td>0.00</td>\n",
              "      <td>0.00</td>\n",
              "      <td>0.00</td>\n",
              "      <td>0.00</td>\n",
              "      <td>0.00</td>\n",
              "      <td>0.0</td>\n",
              "      <td>0.00</td>\n",
              "      <td>0.00</td>\n",
              "      <td>0.0</td>\n",
              "      <td>0.00</td>\n",
              "      <td>0.0</td>\n",
              "      <td>0.00</td>\n",
              "      <td>0.00</td>\n",
              "      <td>0.49</td>\n",
              "      <td>0.0</td>\n",
              "      <td>0.00</td>\n",
              "      <td>0.00</td>\n",
              "      <td>0.0</td>\n",
              "      <td>0.0</td>\n",
              "      <td>0.00</td>\n",
              "      <td>0.00</td>\n",
              "      <td>0.99</td>\n",
              "      <td>0.49</td>\n",
              "      <td>0.00</td>\n",
              "      <td>0.0</td>\n",
              "      <td>0.000</td>\n",
              "      <td>0.000</td>\n",
              "      <td>0.000</td>\n",
              "      <td>0.091</td>\n",
              "      <td>0.000</td>\n",
              "      <td>0.000</td>\n",
              "      <td>1.214</td>\n",
              "      <td>5</td>\n",
              "      <td>51</td>\n",
              "      <td>0</td>\n",
              "    </tr>\n",
              "    <tr>\n",
              "      <th>573</th>\n",
              "      <td>0.50</td>\n",
              "      <td>0.00</td>\n",
              "      <td>0.75</td>\n",
              "      <td>0.0</td>\n",
              "      <td>0.25</td>\n",
              "      <td>0.25</td>\n",
              "      <td>0.25</td>\n",
              "      <td>0.50</td>\n",
              "      <td>0.00</td>\n",
              "      <td>0.00</td>\n",
              "      <td>0.50</td>\n",
              "      <td>2.26</td>\n",
              "      <td>0.00</td>\n",
              "      <td>0.00</td>\n",
              "      <td>0.00</td>\n",
              "      <td>0.50</td>\n",
              "      <td>1.00</td>\n",
              "      <td>0.25</td>\n",
              "      <td>4.03</td>\n",
              "      <td>0.00</td>\n",
              "      <td>2.01</td>\n",
              "      <td>0.0</td>\n",
              "      <td>0.00</td>\n",
              "      <td>0.00</td>\n",
              "      <td>0.00</td>\n",
              "      <td>0.00</td>\n",
              "      <td>0.00</td>\n",
              "      <td>0.00</td>\n",
              "      <td>0.0</td>\n",
              "      <td>0.00</td>\n",
              "      <td>0.00</td>\n",
              "      <td>0.0</td>\n",
              "      <td>0.00</td>\n",
              "      <td>0.0</td>\n",
              "      <td>0.00</td>\n",
              "      <td>0.00</td>\n",
              "      <td>0.00</td>\n",
              "      <td>0.0</td>\n",
              "      <td>0.00</td>\n",
              "      <td>0.00</td>\n",
              "      <td>0.0</td>\n",
              "      <td>0.0</td>\n",
              "      <td>0.00</td>\n",
              "      <td>0.00</td>\n",
              "      <td>0.00</td>\n",
              "      <td>0.00</td>\n",
              "      <td>0.00</td>\n",
              "      <td>0.0</td>\n",
              "      <td>0.000</td>\n",
              "      <td>0.034</td>\n",
              "      <td>0.000</td>\n",
              "      <td>0.375</td>\n",
              "      <td>0.034</td>\n",
              "      <td>0.000</td>\n",
              "      <td>4.200</td>\n",
              "      <td>60</td>\n",
              "      <td>231</td>\n",
              "      <td>1</td>\n",
              "    </tr>\n",
              "    <tr>\n",
              "      <th>1334</th>\n",
              "      <td>0.00</td>\n",
              "      <td>0.00</td>\n",
              "      <td>0.00</td>\n",
              "      <td>0.0</td>\n",
              "      <td>0.00</td>\n",
              "      <td>0.00</td>\n",
              "      <td>0.00</td>\n",
              "      <td>0.00</td>\n",
              "      <td>0.00</td>\n",
              "      <td>3.77</td>\n",
              "      <td>0.00</td>\n",
              "      <td>0.00</td>\n",
              "      <td>0.00</td>\n",
              "      <td>0.00</td>\n",
              "      <td>0.00</td>\n",
              "      <td>0.00</td>\n",
              "      <td>0.00</td>\n",
              "      <td>0.00</td>\n",
              "      <td>1.88</td>\n",
              "      <td>0.00</td>\n",
              "      <td>0.00</td>\n",
              "      <td>0.0</td>\n",
              "      <td>0.00</td>\n",
              "      <td>1.88</td>\n",
              "      <td>0.00</td>\n",
              "      <td>0.00</td>\n",
              "      <td>0.00</td>\n",
              "      <td>0.00</td>\n",
              "      <td>0.0</td>\n",
              "      <td>0.00</td>\n",
              "      <td>0.00</td>\n",
              "      <td>0.0</td>\n",
              "      <td>0.00</td>\n",
              "      <td>0.0</td>\n",
              "      <td>0.00</td>\n",
              "      <td>0.00</td>\n",
              "      <td>0.00</td>\n",
              "      <td>0.0</td>\n",
              "      <td>0.00</td>\n",
              "      <td>0.00</td>\n",
              "      <td>0.0</td>\n",
              "      <td>0.0</td>\n",
              "      <td>0.00</td>\n",
              "      <td>0.00</td>\n",
              "      <td>0.00</td>\n",
              "      <td>0.00</td>\n",
              "      <td>0.00</td>\n",
              "      <td>0.0</td>\n",
              "      <td>0.264</td>\n",
              "      <td>0.000</td>\n",
              "      <td>0.000</td>\n",
              "      <td>0.000</td>\n",
              "      <td>0.000</td>\n",
              "      <td>0.000</td>\n",
              "      <td>4.333</td>\n",
              "      <td>13</td>\n",
              "      <td>78</td>\n",
              "      <td>1</td>\n",
              "    </tr>\n",
              "    <tr>\n",
              "      <th>2775</th>\n",
              "      <td>0.00</td>\n",
              "      <td>0.00</td>\n",
              "      <td>0.00</td>\n",
              "      <td>0.0</td>\n",
              "      <td>0.00</td>\n",
              "      <td>0.00</td>\n",
              "      <td>0.00</td>\n",
              "      <td>0.00</td>\n",
              "      <td>0.00</td>\n",
              "      <td>0.84</td>\n",
              "      <td>0.00</td>\n",
              "      <td>0.00</td>\n",
              "      <td>0.00</td>\n",
              "      <td>0.00</td>\n",
              "      <td>0.00</td>\n",
              "      <td>0.00</td>\n",
              "      <td>0.84</td>\n",
              "      <td>0.00</td>\n",
              "      <td>1.68</td>\n",
              "      <td>0.00</td>\n",
              "      <td>0.00</td>\n",
              "      <td>0.0</td>\n",
              "      <td>0.00</td>\n",
              "      <td>0.00</td>\n",
              "      <td>0.00</td>\n",
              "      <td>0.00</td>\n",
              "      <td>0.00</td>\n",
              "      <td>0.00</td>\n",
              "      <td>0.0</td>\n",
              "      <td>0.00</td>\n",
              "      <td>0.00</td>\n",
              "      <td>0.0</td>\n",
              "      <td>0.00</td>\n",
              "      <td>0.0</td>\n",
              "      <td>0.00</td>\n",
              "      <td>0.00</td>\n",
              "      <td>0.84</td>\n",
              "      <td>0.0</td>\n",
              "      <td>0.84</td>\n",
              "      <td>0.00</td>\n",
              "      <td>0.0</td>\n",
              "      <td>0.0</td>\n",
              "      <td>0.84</td>\n",
              "      <td>0.00</td>\n",
              "      <td>0.84</td>\n",
              "      <td>0.84</td>\n",
              "      <td>0.00</td>\n",
              "      <td>0.0</td>\n",
              "      <td>0.000</td>\n",
              "      <td>0.000</td>\n",
              "      <td>0.137</td>\n",
              "      <td>0.413</td>\n",
              "      <td>0.000</td>\n",
              "      <td>0.137</td>\n",
              "      <td>3.052</td>\n",
              "      <td>13</td>\n",
              "      <td>116</td>\n",
              "      <td>0</td>\n",
              "    </tr>\n",
              "    <tr>\n",
              "      <th>376</th>\n",
              "      <td>0.35</td>\n",
              "      <td>0.46</td>\n",
              "      <td>0.31</td>\n",
              "      <td>0.0</td>\n",
              "      <td>0.15</td>\n",
              "      <td>0.03</td>\n",
              "      <td>0.00</td>\n",
              "      <td>0.35</td>\n",
              "      <td>0.58</td>\n",
              "      <td>0.66</td>\n",
              "      <td>0.31</td>\n",
              "      <td>0.70</td>\n",
              "      <td>0.62</td>\n",
              "      <td>1.28</td>\n",
              "      <td>0.03</td>\n",
              "      <td>0.23</td>\n",
              "      <td>0.42</td>\n",
              "      <td>0.00</td>\n",
              "      <td>3.12</td>\n",
              "      <td>0.00</td>\n",
              "      <td>1.36</td>\n",
              "      <td>0.0</td>\n",
              "      <td>0.46</td>\n",
              "      <td>0.46</td>\n",
              "      <td>0.00</td>\n",
              "      <td>0.00</td>\n",
              "      <td>0.00</td>\n",
              "      <td>0.00</td>\n",
              "      <td>0.0</td>\n",
              "      <td>0.00</td>\n",
              "      <td>0.00</td>\n",
              "      <td>0.0</td>\n",
              "      <td>0.00</td>\n",
              "      <td>0.0</td>\n",
              "      <td>0.00</td>\n",
              "      <td>0.00</td>\n",
              "      <td>0.00</td>\n",
              "      <td>0.0</td>\n",
              "      <td>0.00</td>\n",
              "      <td>0.00</td>\n",
              "      <td>0.0</td>\n",
              "      <td>0.0</td>\n",
              "      <td>0.00</td>\n",
              "      <td>0.00</td>\n",
              "      <td>0.03</td>\n",
              "      <td>0.00</td>\n",
              "      <td>0.00</td>\n",
              "      <td>0.0</td>\n",
              "      <td>0.005</td>\n",
              "      <td>0.088</td>\n",
              "      <td>0.000</td>\n",
              "      <td>0.319</td>\n",
              "      <td>0.479</td>\n",
              "      <td>0.124</td>\n",
              "      <td>6.110</td>\n",
              "      <td>116</td>\n",
              "      <td>2218</td>\n",
              "      <td>1</td>\n",
              "    </tr>\n",
              "    <tr>\n",
              "      <th>2172</th>\n",
              "      <td>0.00</td>\n",
              "      <td>0.00</td>\n",
              "      <td>0.00</td>\n",
              "      <td>0.0</td>\n",
              "      <td>0.00</td>\n",
              "      <td>0.00</td>\n",
              "      <td>0.00</td>\n",
              "      <td>0.00</td>\n",
              "      <td>0.00</td>\n",
              "      <td>0.00</td>\n",
              "      <td>0.00</td>\n",
              "      <td>0.74</td>\n",
              "      <td>0.00</td>\n",
              "      <td>0.00</td>\n",
              "      <td>0.00</td>\n",
              "      <td>0.00</td>\n",
              "      <td>0.00</td>\n",
              "      <td>0.74</td>\n",
              "      <td>1.49</td>\n",
              "      <td>0.00</td>\n",
              "      <td>0.00</td>\n",
              "      <td>0.0</td>\n",
              "      <td>0.00</td>\n",
              "      <td>0.00</td>\n",
              "      <td>4.47</td>\n",
              "      <td>2.23</td>\n",
              "      <td>0.00</td>\n",
              "      <td>0.74</td>\n",
              "      <td>0.0</td>\n",
              "      <td>0.74</td>\n",
              "      <td>0.74</td>\n",
              "      <td>0.0</td>\n",
              "      <td>0.00</td>\n",
              "      <td>0.0</td>\n",
              "      <td>0.74</td>\n",
              "      <td>0.74</td>\n",
              "      <td>0.00</td>\n",
              "      <td>0.0</td>\n",
              "      <td>0.00</td>\n",
              "      <td>0.00</td>\n",
              "      <td>0.0</td>\n",
              "      <td>0.0</td>\n",
              "      <td>0.00</td>\n",
              "      <td>0.00</td>\n",
              "      <td>0.00</td>\n",
              "      <td>0.00</td>\n",
              "      <td>0.00</td>\n",
              "      <td>0.0</td>\n",
              "      <td>0.000</td>\n",
              "      <td>0.102</td>\n",
              "      <td>0.204</td>\n",
              "      <td>0.102</td>\n",
              "      <td>0.000</td>\n",
              "      <td>0.204</td>\n",
              "      <td>2.121</td>\n",
              "      <td>10</td>\n",
              "      <td>87</td>\n",
              "      <td>0</td>\n",
              "    </tr>\n",
              "    <tr>\n",
              "      <th>1568</th>\n",
              "      <td>0.50</td>\n",
              "      <td>0.19</td>\n",
              "      <td>0.57</td>\n",
              "      <td>0.0</td>\n",
              "      <td>0.25</td>\n",
              "      <td>0.38</td>\n",
              "      <td>0.00</td>\n",
              "      <td>0.00</td>\n",
              "      <td>0.50</td>\n",
              "      <td>0.06</td>\n",
              "      <td>0.12</td>\n",
              "      <td>0.63</td>\n",
              "      <td>0.19</td>\n",
              "      <td>0.00</td>\n",
              "      <td>0.00</td>\n",
              "      <td>0.69</td>\n",
              "      <td>0.50</td>\n",
              "      <td>0.38</td>\n",
              "      <td>3.49</td>\n",
              "      <td>0.06</td>\n",
              "      <td>1.27</td>\n",
              "      <td>0.0</td>\n",
              "      <td>0.31</td>\n",
              "      <td>1.08</td>\n",
              "      <td>0.00</td>\n",
              "      <td>0.00</td>\n",
              "      <td>0.00</td>\n",
              "      <td>0.00</td>\n",
              "      <td>0.0</td>\n",
              "      <td>0.00</td>\n",
              "      <td>0.00</td>\n",
              "      <td>0.0</td>\n",
              "      <td>0.00</td>\n",
              "      <td>0.0</td>\n",
              "      <td>0.00</td>\n",
              "      <td>0.00</td>\n",
              "      <td>0.00</td>\n",
              "      <td>0.0</td>\n",
              "      <td>0.00</td>\n",
              "      <td>0.00</td>\n",
              "      <td>0.0</td>\n",
              "      <td>0.0</td>\n",
              "      <td>0.00</td>\n",
              "      <td>0.00</td>\n",
              "      <td>0.25</td>\n",
              "      <td>0.00</td>\n",
              "      <td>0.06</td>\n",
              "      <td>0.0</td>\n",
              "      <td>0.000</td>\n",
              "      <td>0.067</td>\n",
              "      <td>0.000</td>\n",
              "      <td>0.435</td>\n",
              "      <td>0.592</td>\n",
              "      <td>0.022</td>\n",
              "      <td>5.335</td>\n",
              "      <td>73</td>\n",
              "      <td>1590</td>\n",
              "      <td>1</td>\n",
              "    </tr>\n",
              "    <tr>\n",
              "      <th>744</th>\n",
              "      <td>0.00</td>\n",
              "      <td>0.00</td>\n",
              "      <td>0.67</td>\n",
              "      <td>0.0</td>\n",
              "      <td>0.27</td>\n",
              "      <td>0.27</td>\n",
              "      <td>0.13</td>\n",
              "      <td>0.00</td>\n",
              "      <td>0.13</td>\n",
              "      <td>0.27</td>\n",
              "      <td>0.00</td>\n",
              "      <td>0.40</td>\n",
              "      <td>0.40</td>\n",
              "      <td>0.00</td>\n",
              "      <td>0.00</td>\n",
              "      <td>0.00</td>\n",
              "      <td>0.27</td>\n",
              "      <td>0.00</td>\n",
              "      <td>0.00</td>\n",
              "      <td>0.00</td>\n",
              "      <td>0.00</td>\n",
              "      <td>0.0</td>\n",
              "      <td>0.27</td>\n",
              "      <td>0.00</td>\n",
              "      <td>0.00</td>\n",
              "      <td>0.00</td>\n",
              "      <td>0.00</td>\n",
              "      <td>0.00</td>\n",
              "      <td>0.0</td>\n",
              "      <td>0.00</td>\n",
              "      <td>0.00</td>\n",
              "      <td>0.0</td>\n",
              "      <td>0.00</td>\n",
              "      <td>0.0</td>\n",
              "      <td>0.00</td>\n",
              "      <td>0.00</td>\n",
              "      <td>0.00</td>\n",
              "      <td>0.0</td>\n",
              "      <td>0.00</td>\n",
              "      <td>0.00</td>\n",
              "      <td>0.0</td>\n",
              "      <td>0.0</td>\n",
              "      <td>0.00</td>\n",
              "      <td>0.00</td>\n",
              "      <td>0.00</td>\n",
              "      <td>0.00</td>\n",
              "      <td>0.00</td>\n",
              "      <td>0.0</td>\n",
              "      <td>0.000</td>\n",
              "      <td>0.109</td>\n",
              "      <td>0.000</td>\n",
              "      <td>0.021</td>\n",
              "      <td>0.000</td>\n",
              "      <td>0.000</td>\n",
              "      <td>1.728</td>\n",
              "      <td>12</td>\n",
              "      <td>204</td>\n",
              "      <td>1</td>\n",
              "    </tr>\n",
              "    <tr>\n",
              "      <th>1673</th>\n",
              "      <td>0.13</td>\n",
              "      <td>0.10</td>\n",
              "      <td>0.55</td>\n",
              "      <td>0.0</td>\n",
              "      <td>0.02</td>\n",
              "      <td>0.13</td>\n",
              "      <td>0.02</td>\n",
              "      <td>1.11</td>\n",
              "      <td>0.23</td>\n",
              "      <td>0.29</td>\n",
              "      <td>0.05</td>\n",
              "      <td>0.34</td>\n",
              "      <td>0.42</td>\n",
              "      <td>0.07</td>\n",
              "      <td>0.55</td>\n",
              "      <td>0.87</td>\n",
              "      <td>0.45</td>\n",
              "      <td>0.66</td>\n",
              "      <td>3.95</td>\n",
              "      <td>0.05</td>\n",
              "      <td>1.59</td>\n",
              "      <td>0.0</td>\n",
              "      <td>0.39</td>\n",
              "      <td>0.34</td>\n",
              "      <td>0.00</td>\n",
              "      <td>0.00</td>\n",
              "      <td>0.00</td>\n",
              "      <td>0.00</td>\n",
              "      <td>0.0</td>\n",
              "      <td>0.00</td>\n",
              "      <td>0.00</td>\n",
              "      <td>0.0</td>\n",
              "      <td>0.02</td>\n",
              "      <td>0.0</td>\n",
              "      <td>0.00</td>\n",
              "      <td>0.00</td>\n",
              "      <td>0.00</td>\n",
              "      <td>0.0</td>\n",
              "      <td>0.00</td>\n",
              "      <td>0.31</td>\n",
              "      <td>0.0</td>\n",
              "      <td>0.0</td>\n",
              "      <td>0.00</td>\n",
              "      <td>0.05</td>\n",
              "      <td>0.23</td>\n",
              "      <td>0.02</td>\n",
              "      <td>0.00</td>\n",
              "      <td>0.0</td>\n",
              "      <td>0.030</td>\n",
              "      <td>0.083</td>\n",
              "      <td>0.000</td>\n",
              "      <td>0.538</td>\n",
              "      <td>0.145</td>\n",
              "      <td>0.070</td>\n",
              "      <td>5.108</td>\n",
              "      <td>116</td>\n",
              "      <td>3525</td>\n",
              "      <td>1</td>\n",
              "    </tr>\n",
              "    <tr>\n",
              "      <th>2602</th>\n",
              "      <td>0.00</td>\n",
              "      <td>0.00</td>\n",
              "      <td>0.00</td>\n",
              "      <td>0.0</td>\n",
              "      <td>0.00</td>\n",
              "      <td>0.00</td>\n",
              "      <td>0.00</td>\n",
              "      <td>0.00</td>\n",
              "      <td>0.00</td>\n",
              "      <td>0.00</td>\n",
              "      <td>0.00</td>\n",
              "      <td>0.00</td>\n",
              "      <td>0.00</td>\n",
              "      <td>0.00</td>\n",
              "      <td>0.00</td>\n",
              "      <td>0.00</td>\n",
              "      <td>0.00</td>\n",
              "      <td>0.00</td>\n",
              "      <td>0.00</td>\n",
              "      <td>0.00</td>\n",
              "      <td>0.00</td>\n",
              "      <td>0.0</td>\n",
              "      <td>0.00</td>\n",
              "      <td>0.00</td>\n",
              "      <td>0.00</td>\n",
              "      <td>0.00</td>\n",
              "      <td>1.81</td>\n",
              "      <td>0.00</td>\n",
              "      <td>0.0</td>\n",
              "      <td>0.00</td>\n",
              "      <td>0.00</td>\n",
              "      <td>0.0</td>\n",
              "      <td>3.63</td>\n",
              "      <td>0.0</td>\n",
              "      <td>0.00</td>\n",
              "      <td>0.00</td>\n",
              "      <td>0.00</td>\n",
              "      <td>0.0</td>\n",
              "      <td>0.00</td>\n",
              "      <td>0.00</td>\n",
              "      <td>0.0</td>\n",
              "      <td>0.0</td>\n",
              "      <td>0.00</td>\n",
              "      <td>0.00</td>\n",
              "      <td>1.81</td>\n",
              "      <td>0.00</td>\n",
              "      <td>0.00</td>\n",
              "      <td>0.0</td>\n",
              "      <td>0.000</td>\n",
              "      <td>0.000</td>\n",
              "      <td>0.000</td>\n",
              "      <td>0.000</td>\n",
              "      <td>0.000</td>\n",
              "      <td>0.000</td>\n",
              "      <td>1.181</td>\n",
              "      <td>3</td>\n",
              "      <td>13</td>\n",
              "      <td>0</td>\n",
              "    </tr>\n",
              "  </tbody>\n",
              "</table>\n",
              "</div>"
            ],
            "text/plain": [
              "        0     1     2    3     4     5   ...     52     53     54   55    56  57\n",
              "4087  0.49  0.00  0.49  0.0  0.49  0.00  ...  0.000  0.000  1.214    5    51   0\n",
              "573   0.50  0.00  0.75  0.0  0.25  0.25  ...  0.034  0.000  4.200   60   231   1\n",
              "1334  0.00  0.00  0.00  0.0  0.00  0.00  ...  0.000  0.000  4.333   13    78   1\n",
              "2775  0.00  0.00  0.00  0.0  0.00  0.00  ...  0.000  0.137  3.052   13   116   0\n",
              "376   0.35  0.46  0.31  0.0  0.15  0.03  ...  0.479  0.124  6.110  116  2218   1\n",
              "2172  0.00  0.00  0.00  0.0  0.00  0.00  ...  0.000  0.204  2.121   10    87   0\n",
              "1568  0.50  0.19  0.57  0.0  0.25  0.38  ...  0.592  0.022  5.335   73  1590   1\n",
              "744   0.00  0.00  0.67  0.0  0.27  0.27  ...  0.000  0.000  1.728   12   204   1\n",
              "1673  0.13  0.10  0.55  0.0  0.02  0.13  ...  0.145  0.070  5.108  116  3525   1\n",
              "2602  0.00  0.00  0.00  0.0  0.00  0.00  ...  0.000  0.000  1.181    3    13   0\n",
              "\n",
              "[10 rows x 58 columns]"
            ]
          },
          "metadata": {
            "tags": []
          },
          "execution_count": 119
        }
      ]
    },
    {
      "cell_type": "code",
      "metadata": {
        "id": "VoFW4cQlxyAU",
        "colab_type": "code",
        "outputId": "c1d01316-065c-4917-e2c0-fe84916b9116",
        "colab": {
          "base_uri": "https://localhost:8080/",
          "height": 34
        }
      },
      "source": [
        "# Checking shape of the datframe.\n",
        "df.shape"
      ],
      "execution_count": 120,
      "outputs": [
        {
          "output_type": "execute_result",
          "data": {
            "text/plain": [
              "(4601, 58)"
            ]
          },
          "metadata": {
            "tags": []
          },
          "execution_count": 120
        }
      ]
    },
    {
      "cell_type": "code",
      "metadata": {
        "id": "jC2cENRmmlc5",
        "colab_type": "code",
        "outputId": "d194df7a-cea7-4bb4-84c0-a1af3d1e96cd",
        "colab": {
          "base_uri": "https://localhost:8080/",
          "height": 1000
        }
      },
      "source": [
        "# Checking whether each column has an appropriate datatype\n",
        "#\n",
        "df.info()"
      ],
      "execution_count": 121,
      "outputs": [
        {
          "output_type": "stream",
          "text": [
            "<class 'pandas.core.frame.DataFrame'>\n",
            "RangeIndex: 4601 entries, 0 to 4600\n",
            "Data columns (total 58 columns):\n",
            "0     4601 non-null float64\n",
            "1     4601 non-null float64\n",
            "2     4601 non-null float64\n",
            "3     4601 non-null float64\n",
            "4     4601 non-null float64\n",
            "5     4601 non-null float64\n",
            "6     4601 non-null float64\n",
            "7     4601 non-null float64\n",
            "8     4601 non-null float64\n",
            "9     4601 non-null float64\n",
            "10    4601 non-null float64\n",
            "11    4601 non-null float64\n",
            "12    4601 non-null float64\n",
            "13    4601 non-null float64\n",
            "14    4601 non-null float64\n",
            "15    4601 non-null float64\n",
            "16    4601 non-null float64\n",
            "17    4601 non-null float64\n",
            "18    4601 non-null float64\n",
            "19    4601 non-null float64\n",
            "20    4601 non-null float64\n",
            "21    4601 non-null float64\n",
            "22    4601 non-null float64\n",
            "23    4601 non-null float64\n",
            "24    4601 non-null float64\n",
            "25    4601 non-null float64\n",
            "26    4601 non-null float64\n",
            "27    4601 non-null float64\n",
            "28    4601 non-null float64\n",
            "29    4601 non-null float64\n",
            "30    4601 non-null float64\n",
            "31    4601 non-null float64\n",
            "32    4601 non-null float64\n",
            "33    4601 non-null float64\n",
            "34    4601 non-null float64\n",
            "35    4601 non-null float64\n",
            "36    4601 non-null float64\n",
            "37    4601 non-null float64\n",
            "38    4601 non-null float64\n",
            "39    4601 non-null float64\n",
            "40    4601 non-null float64\n",
            "41    4601 non-null float64\n",
            "42    4601 non-null float64\n",
            "43    4601 non-null float64\n",
            "44    4601 non-null float64\n",
            "45    4601 non-null float64\n",
            "46    4601 non-null float64\n",
            "47    4601 non-null float64\n",
            "48    4601 non-null float64\n",
            "49    4601 non-null float64\n",
            "50    4601 non-null float64\n",
            "51    4601 non-null float64\n",
            "52    4601 non-null float64\n",
            "53    4601 non-null float64\n",
            "54    4601 non-null float64\n",
            "55    4601 non-null int64\n",
            "56    4601 non-null int64\n",
            "57    4601 non-null int64\n",
            "dtypes: float64(55), int64(3)\n",
            "memory usage: 2.0 MB\n"
          ],
          "name": "stdout"
        }
      ]
    },
    {
      "cell_type": "markdown",
      "metadata": {
        "id": "9Ua6kdtwmqyz",
        "colab_type": "text"
      },
      "source": [
        "Our data has no column heads. All other columns have floats, except column 57 which has 1's and 0's. \n",
        "\n",
        "This row is unique and i will use it as the target variable. I will convert it to a categorrical variable."
      ]
    },
    {
      "cell_type": "code",
      "metadata": {
        "id": "AA1Yjb9tntIP",
        "colab_type": "code",
        "colab": {}
      },
      "source": [
        "# Converting the last should be to a categorical varible.\n",
        "# For the purposes of bivariate analysis, we will nfirst not convert it to categorical till after the analysis.\n",
        "#\n",
        "# df.loc[:,57]  = pd.Categorical(df.loc[:,57])\n",
        "# df.info()"
      ],
      "execution_count": 0,
      "outputs": []
    },
    {
      "cell_type": "code",
      "metadata": {
        "id": "SR-qx_KMtGAy",
        "colab_type": "code",
        "outputId": "90813339-ea7e-404e-e1af-566699e7eb05",
        "colab": {
          "base_uri": "https://localhost:8080/",
          "height": 1000
        }
      },
      "source": [
        "# Checicking if there are any null values.\n",
        "df.isnull().any()\n",
        "\n",
        "# There are no null values."
      ],
      "execution_count": 123,
      "outputs": [
        {
          "output_type": "execute_result",
          "data": {
            "text/plain": [
              "0     False\n",
              "1     False\n",
              "2     False\n",
              "3     False\n",
              "4     False\n",
              "5     False\n",
              "6     False\n",
              "7     False\n",
              "8     False\n",
              "9     False\n",
              "10    False\n",
              "11    False\n",
              "12    False\n",
              "13    False\n",
              "14    False\n",
              "15    False\n",
              "16    False\n",
              "17    False\n",
              "18    False\n",
              "19    False\n",
              "20    False\n",
              "21    False\n",
              "22    False\n",
              "23    False\n",
              "24    False\n",
              "25    False\n",
              "26    False\n",
              "27    False\n",
              "28    False\n",
              "29    False\n",
              "30    False\n",
              "31    False\n",
              "32    False\n",
              "33    False\n",
              "34    False\n",
              "35    False\n",
              "36    False\n",
              "37    False\n",
              "38    False\n",
              "39    False\n",
              "40    False\n",
              "41    False\n",
              "42    False\n",
              "43    False\n",
              "44    False\n",
              "45    False\n",
              "46    False\n",
              "47    False\n",
              "48    False\n",
              "49    False\n",
              "50    False\n",
              "51    False\n",
              "52    False\n",
              "53    False\n",
              "54    False\n",
              "55    False\n",
              "56    False\n",
              "57    False\n",
              "dtype: bool"
            ]
          },
          "metadata": {
            "tags": []
          },
          "execution_count": 123
        }
      ]
    },
    {
      "cell_type": "code",
      "metadata": {
        "id": "dMYqsQT9tnCE",
        "colab_type": "code",
        "outputId": "0540b3b3-d8ea-4623-a3ef-1147b2affa2c",
        "colab": {
          "base_uri": "https://localhost:8080/",
          "height": 34
        }
      },
      "source": [
        "#Checking for duplicates.\n",
        "#\n",
        "# df.duplicated().any()\n",
        "\n",
        "# Our data  has duplicates.\n",
        "df.duplicated().sum()\n",
        "\n",
        "# We have 391 duplicates"
      ],
      "execution_count": 124,
      "outputs": [
        {
          "output_type": "execute_result",
          "data": {
            "text/plain": [
              "391"
            ]
          },
          "metadata": {
            "tags": []
          },
          "execution_count": 124
        }
      ]
    },
    {
      "cell_type": "code",
      "metadata": {
        "id": "5wiJtlVtxagp",
        "colab_type": "code",
        "colab": {}
      },
      "source": [
        "# Dropping the duplicates.\n",
        "df = df.drop_duplicates(keep = 'first')"
      ],
      "execution_count": 0,
      "outputs": []
    },
    {
      "cell_type": "code",
      "metadata": {
        "id": "Q6UuGFBnxl2U",
        "colab_type": "code",
        "outputId": "f6f40aff-8ec9-42f1-f3fb-b4303b1f4dd7",
        "colab": {
          "base_uri": "https://localhost:8080/",
          "height": 34
        }
      },
      "source": [
        "# Checking the new shape of the dataframe\n",
        "df.shape"
      ],
      "execution_count": 126,
      "outputs": [
        {
          "output_type": "execute_result",
          "data": {
            "text/plain": [
              "(4210, 58)"
            ]
          },
          "metadata": {
            "tags": []
          },
          "execution_count": 126
        }
      ]
    },
    {
      "cell_type": "markdown",
      "metadata": {
        "id": "n5CXN7tVhpB3",
        "colab_type": "text"
      },
      "source": [
        "# EXPLORATORY DATA ANALYSIS"
      ]
    },
    {
      "cell_type": "markdown",
      "metadata": {
        "id": "T_1EjEoIEYgR",
        "colab_type": "text"
      },
      "source": [
        "## Univariate analysis"
      ]
    },
    {
      "cell_type": "code",
      "metadata": {
        "id": "V-_qgdJ0FND7",
        "colab_type": "code",
        "colab": {
          "base_uri": "https://localhost:8080/",
          "height": 285
        },
        "outputId": "87892907-e842-4630-87e5-9c4b05439b98"
      },
      "source": [
        "# Countplot of the dependent variable.\n",
        "colors = [\"#808080\", \"#BCF60C\"]\n",
        "sns.set_palette(sns.color_palette(colors))\n",
        "f, ax = plt.subplots(figsize=(8, 4))\n",
        "ax = sns.countplot(x=df.loc[:,57], alpha=1)"
      ],
      "execution_count": 127,
      "outputs": [
        {
          "output_type": "display_data",
          "data": {
            "image/png": "[encoded data removed]",
            "text/plain": [
              "<Figure size 576x288 with 1 Axes>"
            ]
          },
          "metadata": {
            "tags": []
          }
        }
      ]
    },
    {
      "cell_type": "markdown",
      "metadata": {
        "id": "52XqQq1ZFss0",
        "colab_type": "text"
      },
      "source": [
        "There are more zeros than ones but the difference is not big enough for this data to be considered imbalanced."
      ]
    },
    {
      "cell_type": "code",
      "metadata": {
        "id": "uSXbOl2-EkcB",
        "colab_type": "code",
        "colab": {
          "base_uri": "https://localhost:8080/",
          "height": 902
        },
        "outputId": "a6954af8-003f-4b1f-9d34-d68ecc5e836f"
      },
      "source": [
        "#Distribution plot\n",
        "df.hist(bins=50,figsize=(25,15))\n",
        "plt.show()"
      ],
      "execution_count": 128,
      "outputs": [
        {
          "output_type": "display_data",
          "data": {
            "image/png": "[encoded data removed]",
            "text/plain": [
              "<Figure size 1800x1080 with 64 Axes>"
            ]
          },
          "metadata": {
            "tags": []
          }
        }
      ]
    },
    {
      "cell_type": "markdown",
      "metadata": {
        "id": "W36W1wQJGFJV",
        "colab_type": "text"
      },
      "source": [
        "Most of the variables have a chisquare distribution"
      ]
    },
    {
      "cell_type": "markdown",
      "metadata": {
        "id": "Qv6zU5ZfGvvt",
        "colab_type": "text"
      },
      "source": [
        "## Bivariate distribution."
      ]
    },
    {
      "cell_type": "code",
      "metadata": {
        "id": "9Jxg396JUuB8",
        "colab_type": "code",
        "colab": {
          "base_uri": "https://localhost:8080/",
          "height": 289
        },
        "outputId": "fe543729-9c7a-4fd5-b667-c130002e848a"
      },
      "source": [
        "# A heatmap to show gow the features are correlated\n",
        "#\n",
        "sns.heatmap(df.corr())"
      ],
      "execution_count": 131,
      "outputs": [
        {
          "output_type": "execute_result",
          "data": {
            "text/plain": [
              "<matplotlib.axes._subplots.AxesSubplot at 0x7f38c25580f0>"
            ]
          },
          "metadata": {
            "tags": []
          },
          "execution_count": 131
        },
        {
          "output_type": "display_data",
          "data": {
            "image/png": "[encoded data removed]",
            "text/plain": [
              "<Figure size 720x288 with 2 Axes>"
            ]
          },
          "metadata": {
            "tags": []
          }
        }
      ]
    },
    {
      "cell_type": "markdown",
      "metadata": {
        "id": "lzFszrGYVWdf",
        "colab_type": "text"
      },
      "source": [
        "It is clear from the heatmap above that most of the variables are not correlated"
      ]
    },
    {
      "cell_type": "markdown",
      "metadata": {
        "id": "Y_u_0JexHldZ",
        "colab_type": "text"
      },
      "source": [
        "## Multivariate analysis."
      ]
    },
    {
      "cell_type": "markdown",
      "metadata": {
        "id": "BdJSqcY_iP9N",
        "colab_type": "text"
      },
      "source": [
        "# IMPLEMENTING SOLUTION"
      ]
    },
    {
      "cell_type": "markdown",
      "metadata": {
        "id": "cKsOcscjHyBR",
        "colab_type": "text"
      },
      "source": [
        "This is a classification problem, LDA will be used to decide feature importance."
      ]
    },
    {
      "cell_type": "code",
      "metadata": {
        "id": "NDMkQoVQHsXS",
        "colab_type": "code",
        "colab": {
          "base_uri": "https://localhost:8080/",
          "height": 1000
        },
        "outputId": "18519868-4e4e-4213-9e31-a76c8706a45d"
      },
      "source": [
        "# The last column needs to be converted to a categorical column.\n",
        "df.loc[:,57]  = pd.Categorical(df.loc[:,57])\n",
        "df.info()"
      ],
      "execution_count": 132,
      "outputs": [
        {
          "output_type": "stream",
          "text": [
            "<class 'pandas.core.frame.DataFrame'>\n",
            "Int64Index: 4210 entries, 0 to 4600\n",
            "Data columns (total 58 columns):\n",
            "0     4210 non-null float64\n",
            "1     4210 non-null float64\n",
            "2     4210 non-null float64\n",
            "3     4210 non-null float64\n",
            "4     4210 non-null float64\n",
            "5     4210 non-null float64\n",
            "6     4210 non-null float64\n",
            "7     4210 non-null float64\n",
            "8     4210 non-null float64\n",
            "9     4210 non-null float64\n",
            "10    4210 non-null float64\n",
            "11    4210 non-null float64\n",
            "12    4210 non-null float64\n",
            "13    4210 non-null float64\n",
            "14    4210 non-null float64\n",
            "15    4210 non-null float64\n",
            "16    4210 non-null float64\n",
            "17    4210 non-null float64\n",
            "18    4210 non-null float64\n",
            "19    4210 non-null float64\n",
            "20    4210 non-null float64\n",
            "21    4210 non-null float64\n",
            "22    4210 non-null float64\n",
            "23    4210 non-null float64\n",
            "24    4210 non-null float64\n",
            "25    4210 non-null float64\n",
            "26    4210 non-null float64\n",
            "27    4210 non-null float64\n",
            "28    4210 non-null float64\n",
            "29    4210 non-null float64\n",
            "30    4210 non-null float64\n",
            "31    4210 non-null float64\n",
            "32    4210 non-null float64\n",
            "33    4210 non-null float64\n",
            "34    4210 non-null float64\n",
            "35    4210 non-null float64\n",
            "36    4210 non-null float64\n",
            "37    4210 non-null float64\n",
            "38    4210 non-null float64\n",
            "39    4210 non-null float64\n",
            "40    4210 non-null float64\n",
            "41    4210 non-null float64\n",
            "42    4210 non-null float64\n",
            "43    4210 non-null float64\n",
            "44    4210 non-null float64\n",
            "45    4210 non-null float64\n",
            "46    4210 non-null float64\n",
            "47    4210 non-null float64\n",
            "48    4210 non-null float64\n",
            "49    4210 non-null float64\n",
            "50    4210 non-null float64\n",
            "51    4210 non-null float64\n",
            "52    4210 non-null float64\n",
            "53    4210 non-null float64\n",
            "54    4210 non-null float64\n",
            "55    4210 non-null int64\n",
            "56    4210 non-null int64\n",
            "57    4210 non-null category\n",
            "dtypes: category(1), float64(55), int64(2)\n",
            "memory usage: 2.0 MB\n"
          ],
          "name": "stdout"
        }
      ]
    },
    {
      "cell_type": "code",
      "metadata": {
        "id": "F6tZAsItIweU",
        "colab_type": "code",
        "colab": {}
      },
      "source": [
        "# Separating features and lablels.\n",
        "X = df.iloc[:, 0:57]\n",
        "y = df.iloc[:, 57]"
      ],
      "execution_count": 0,
      "outputs": []
    },
    {
      "cell_type": "code",
      "metadata": {
        "id": "-xBmbaTwLicN",
        "colab_type": "code",
        "colab": {}
      },
      "source": [
        "# The following code divides data into training and test sets\n",
        "#\n",
        "from sklearn.model_selection import train_test_split\n",
        "X_train, X_test, y_train, y_test = train_test_split(X, y, test_size=0.2, random_state=0)"
      ],
      "execution_count": 0,
      "outputs": []
    },
    {
      "cell_type": "code",
      "metadata": {
        "id": "z2R3vJiGLvvo",
        "colab_type": "code",
        "colab": {
          "base_uri": "https://localhost:8080/",
          "height": 34
        },
        "outputId": "3cbee2dc-c320-4a01-e78f-8e78fbc8f94a"
      },
      "source": [
        "#Checking how many rows our train set has.\n",
        "#We have 8 columns.\n",
        "X_train.shape"
      ],
      "execution_count": 135,
      "outputs": [
        {
          "output_type": "execute_result",
          "data": {
            "text/plain": [
              "(3368, 57)"
            ]
          },
          "metadata": {
            "tags": []
          },
          "execution_count": 135
        }
      ]
    },
    {
      "cell_type": "code",
      "metadata": {
        "id": "QH26IPJzMHn6",
        "colab_type": "code",
        "colab": {}
      },
      "source": [
        "# Applying the LDA transformation.\n",
        "# To use a specified number of components we can specify\n",
        "#\n",
        "from sklearn.discriminant_analysis import LinearDiscriminantAnalysis as LDA\n",
        "lda = LDA()\n",
        "X_train = lda.fit_transform(X_train, y_train)\n",
        "X_test = lda.transform(X_test)"
      ],
      "execution_count": 0,
      "outputs": []
    },
    {
      "cell_type": "code",
      "metadata": {
        "id": "A92buzWfMKSo",
        "colab_type": "code",
        "colab": {
          "base_uri": "https://localhost:8080/",
          "height": 34
        },
        "outputId": "d4100b0d-96c7-4cdf-db18-cff0b8341614"
      },
      "source": [
        "#Checking the number of rows after LDA transformation\n",
        "#\n",
        "X_train.shape"
      ],
      "execution_count": 137,
      "outputs": [
        {
          "output_type": "execute_result",
          "data": {
            "text/plain": [
              "(3368, 1)"
            ]
          },
          "metadata": {
            "tags": []
          },
          "execution_count": 137
        }
      ]
    },
    {
      "cell_type": "markdown",
      "metadata": {
        "id": "esVU8wjZV6a3",
        "colab_type": "text"
      },
      "source": [
        "LDA has reduced the dataset to having only one column."
      ]
    },
    {
      "cell_type": "markdown",
      "metadata": {
        "id": "grHcM7x6yTG2",
        "colab_type": "text"
      },
      "source": [
        "## Creating naive bayes model"
      ]
    },
    {
      "cell_type": "markdown",
      "metadata": {
        "id": "1DzKMvx11uBN",
        "colab_type": "text"
      },
      "source": [
        "Since our independent variables are continuous we will make the assumption of a normal distribution and thus use the gaussian naive bayes classifier\n"
      ]
    },
    {
      "cell_type": "code",
      "metadata": {
        "id": "Z9Ce4OhYyac8",
        "colab_type": "code",
        "colab": {}
      },
      "source": [
        "# Separating features and lablels.\n",
        "X = df.iloc[:, 0:57]\n",
        "y = df.iloc[:, 57]"
      ],
      "execution_count": 0,
      "outputs": []
    },
    {
      "cell_type": "code",
      "metadata": {
        "id": "5D347qRUyP9s",
        "colab_type": "code",
        "colab": {}
      },
      "source": [
        "# Splitting our data into a training set and a test set\n",
        "# \n",
        "X_train, X_test, y_train, y_test = train_test_split(X, y, test_size=0.3, random_state=6) "
      ],
      "execution_count": 0,
      "outputs": []
    },
    {
      "cell_type": "code",
      "metadata": {
        "id": "9dtwxQxQ0F_R",
        "colab_type": "code",
        "colab": {}
      },
      "source": [
        "# Training our model\n",
        "# \n",
        "from sklearn.naive_bayes import GaussianNB\n",
        "clf = GaussianNB()  \n",
        "model = clf.fit(X_train, y_train) "
      ],
      "execution_count": 0,
      "outputs": []
    },
    {
      "cell_type": "code",
      "metadata": {
        "id": "gmgvREj103So",
        "colab_type": "code",
        "outputId": "6846eb2b-50da-4a5e-c5dc-611b561d48d8",
        "colab": {
          "base_uri": "https://localhost:8080/",
          "height": 419
        }
      },
      "source": [
        "# Predicting our test predictors\n",
        "predicted = model.predict(X_test)\n",
        "w3 = pd.DataFrame({'actual' : y_test, 'predicted' : predicted})\n",
        "w3"
      ],
      "execution_count": 141,
      "outputs": [
        {
          "output_type": "execute_result",
          "data": {
            "text/html": [
              "<div>\n",
              "<style scoped>\n",
              "    .dataframe tbody tr th:only-of-type {\n",
              "        vertical-align: middle;\n",
              "    }\n",
              "\n",
              "    .dataframe tbody tr th {\n",
              "        vertical-align: top;\n",
              "    }\n",
              "\n",
              "    .dataframe thead th {\n",
              "        text-align: right;\n",
              "    }\n",
              "</style>\n",
              "<table border=\"1\" class=\"dataframe\">\n",
              "  <thead>\n",
              "    <tr style=\"text-align: right;\">\n",
              "      <th></th>\n",
              "      <th>actual</th>\n",
              "      <th>predicted</th>\n",
              "    </tr>\n",
              "  </thead>\n",
              "  <tbody>\n",
              "    <tr>\n",
              "      <th>489</th>\n",
              "      <td>1</td>\n",
              "      <td>1</td>\n",
              "    </tr>\n",
              "    <tr>\n",
              "      <th>1233</th>\n",
              "      <td>1</td>\n",
              "      <td>1</td>\n",
              "    </tr>\n",
              "    <tr>\n",
              "      <th>4243</th>\n",
              "      <td>0</td>\n",
              "      <td>0</td>\n",
              "    </tr>\n",
              "    <tr>\n",
              "      <th>3967</th>\n",
              "      <td>0</td>\n",
              "      <td>0</td>\n",
              "    </tr>\n",
              "    <tr>\n",
              "      <th>4206</th>\n",
              "      <td>0</td>\n",
              "      <td>0</td>\n",
              "    </tr>\n",
              "    <tr>\n",
              "      <th>...</th>\n",
              "      <td>...</td>\n",
              "      <td>...</td>\n",
              "    </tr>\n",
              "    <tr>\n",
              "      <th>503</th>\n",
              "      <td>1</td>\n",
              "      <td>1</td>\n",
              "    </tr>\n",
              "    <tr>\n",
              "      <th>1795</th>\n",
              "      <td>1</td>\n",
              "      <td>1</td>\n",
              "    </tr>\n",
              "    <tr>\n",
              "      <th>909</th>\n",
              "      <td>1</td>\n",
              "      <td>1</td>\n",
              "    </tr>\n",
              "    <tr>\n",
              "      <th>2810</th>\n",
              "      <td>0</td>\n",
              "      <td>0</td>\n",
              "    </tr>\n",
              "    <tr>\n",
              "      <th>97</th>\n",
              "      <td>1</td>\n",
              "      <td>1</td>\n",
              "    </tr>\n",
              "  </tbody>\n",
              "</table>\n",
              "<p>1263 rows × 2 columns</p>\n",
              "</div>"
            ],
            "text/plain": [
              "     actual  predicted\n",
              "489       1          1\n",
              "1233      1          1\n",
              "4243      0          0\n",
              "3967      0          0\n",
              "4206      0          0\n",
              "...     ...        ...\n",
              "503       1          1\n",
              "1795      1          1\n",
              "909       1          1\n",
              "2810      0          0\n",
              "97        1          1\n",
              "\n",
              "[1263 rows x 2 columns]"
            ]
          },
          "metadata": {
            "tags": []
          },
          "execution_count": 141
        }
      ]
    },
    {
      "cell_type": "code",
      "metadata": {
        "id": "Nkx1gafp1Ahb",
        "colab_type": "code",
        "outputId": "1c4c5381-6f61-41b6-f5c0-883b55435611",
        "colab": {
          "base_uri": "https://localhost:8080/",
          "height": 34
        }
      },
      "source": [
        "print(np.mean(predicted == y_test))"
      ],
      "execution_count": 142,
      "outputs": [
        {
          "output_type": "stream",
          "text": [
            "0.8147268408551069\n"
          ],
          "name": "stdout"
        }
      ]
    },
    {
      "cell_type": "code",
      "metadata": {
        "id": "UZsygblI1Sos",
        "colab_type": "code",
        "outputId": "6df13f64-83cc-40cb-c8df-096c3c9a8449",
        "colab": {
          "base_uri": "https://localhost:8080/",
          "height": 204
        }
      },
      "source": [
        "#Model evaluation.\n",
        "from sklearn.metrics import classification_report, confusion_matrix\n",
        "print(confusion_matrix(y_test, predicted))\n",
        "print(classification_report(y_test, predicted))"
      ],
      "execution_count": 143,
      "outputs": [
        {
          "output_type": "stream",
          "text": [
            "[[547 211]\n",
            " [ 23 482]]\n",
            "              precision    recall  f1-score   support\n",
            "\n",
            "           0       0.96      0.72      0.82       758\n",
            "           1       0.70      0.95      0.80       505\n",
            "\n",
            "    accuracy                           0.81      1263\n",
            "   macro avg       0.83      0.84      0.81      1263\n",
            "weighted avg       0.85      0.81      0.82      1263\n",
            "\n"
          ],
          "name": "stdout"
        }
      ]
    },
    {
      "cell_type": "markdown",
      "metadata": {
        "id": "3e1yNjGD1fZZ",
        "colab_type": "text"
      },
      "source": [
        "The naive bayes gaussian model has an f1- score of 82%"
      ]
    },
    {
      "cell_type": "markdown",
      "metadata": {
        "id": "pIw9v8zwOxZg",
        "colab_type": "text"
      },
      "source": [
        "## Improving the naive bayes model."
      ]
    },
    {
      "cell_type": "markdown",
      "metadata": {
        "id": "j1zjbidRTQKs",
        "colab_type": "text"
      },
      "source": [
        "### Dropping outliers"
      ]
    },
    {
      "cell_type": "code",
      "metadata": {
        "id": "b1SF5uSqO4dU",
        "colab_type": "code",
        "colab": {
          "base_uri": "https://localhost:8080/",
          "height": 285
        },
        "outputId": "b95cd8c3-81a5-4849-9cf0-d78b8634413f"
      },
      "source": [
        "# Let's if dropping outliers will do this model any better.\n",
        "# since last column is categorical, we convvert to object so that it is not considered\n",
        "#\n",
        "df.loc[:,57]  = df.loc[:,57].astype('object')\n",
        "sns. boxplot(data = df)"
      ],
      "execution_count": 144,
      "outputs": [
        {
          "output_type": "execute_result",
          "data": {
            "text/plain": [
              "<matplotlib.axes._subplots.AxesSubplot at 0x7f38c24b52e8>"
            ]
          },
          "metadata": {
            "tags": []
          },
          "execution_count": 144
        },
        {
          "output_type": "display_data",
          "data": {
            "image/png": "[encoded data removed]",
            "text/plain": [
              "<Figure size 720x288 with 1 Axes>"
            ]
          },
          "metadata": {
            "tags": []
          }
        }
      ]
    },
    {
      "cell_type": "code",
      "metadata": {
        "id": "xEENf_02PEbd",
        "colab_type": "code",
        "colab": {
          "base_uri": "https://localhost:8080/",
          "height": 34
        },
        "outputId": "cc4781fc-b40e-4ef0-a854-ddd6c7b748af"
      },
      "source": [
        "# Dropping the outliers.\n",
        "Q3=df.quantile(0.75)\n",
        "Q1=df.quantile(0.25)\n",
        "IQR = Q3 - Q1\n",
        "# print(IQR)\n",
        "# print((df < (Q1 - 1.5 * IQR)) |(df > (Q3 + 1.5 * IQR)))\n",
        "dff= df[~((df < (Q1 - 1.5 * IQR)) |(df > (Q3 + 1.5 * IQR))).any(axis=1)]\n",
        "dff.shape\n"
      ],
      "execution_count": 145,
      "outputs": [
        {
          "output_type": "execute_result",
          "data": {
            "text/plain": [
              "(114, 58)"
            ]
          },
          "metadata": {
            "tags": []
          },
          "execution_count": 145
        }
      ]
    },
    {
      "cell_type": "markdown",
      "metadata": {
        "id": "smsqG2axR3nW",
        "colab_type": "text"
      },
      "source": [
        "Dropping outliers has drastically reduced the data, therefore dropping outliers is not a good approach"
      ]
    }
  ]
}